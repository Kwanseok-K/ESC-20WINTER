{
  "nbformat": 4,
  "nbformat_minor": 0,
  "metadata": {
    "colab": {
      "name": "101Numpy.ipynb",
      "provenance": [],
      "collapsed_sections": []
    },
    "kernelspec": {
      "name": "python3",
      "display_name": "Python 3"
    }
  },
  "cells": [
    {
      "cell_type": "code",
      "metadata": {
        "id": "ovVLxLbvCR9h",
        "colab_type": "code",
        "colab": {}
      },
      "source": [
        "#1\n",
        "import numpy as np"
      ],
      "execution_count": 0,
      "outputs": []
    },
    {
      "cell_type": "code",
      "metadata": {
        "id": "4KazMSSvCdSo",
        "colab_type": "code",
        "outputId": "865e47d5-b81b-4c0a-b7d0-af26092d1ea7",
        "colab": {
          "base_uri": "https://localhost:8080/",
          "height": 35
        }
      },
      "source": [
        "#2\n",
        "np.arange(10)"
      ],
      "execution_count": 0,
      "outputs": [
        {
          "output_type": "execute_result",
          "data": {
            "text/plain": [
              "array([0, 1, 2, 3, 4, 5, 6, 7, 8, 9])"
            ]
          },
          "metadata": {
            "tags": []
          },
          "execution_count": 4
        }
      ]
    },
    {
      "cell_type": "code",
      "metadata": {
        "id": "ILchdAK2CdQB",
        "colab_type": "code",
        "outputId": "e8bdc176-a38d-4404-a560-4617e00c23c7",
        "colab": {
          "base_uri": "https://localhost:8080/",
          "height": 71
        }
      },
      "source": [
        "#3\n",
        "np.ones((3,3),dtype=bool)"
      ],
      "execution_count": 0,
      "outputs": [
        {
          "output_type": "execute_result",
          "data": {
            "text/plain": [
              "array([[ True,  True,  True],\n",
              "       [ True,  True,  True],\n",
              "       [ True,  True,  True]])"
            ]
          },
          "metadata": {
            "tags": []
          },
          "execution_count": 8
        }
      ]
    },
    {
      "cell_type": "code",
      "metadata": {
        "id": "Q_ZsuS2OCdN8",
        "colab_type": "code",
        "outputId": "56f4a69d-7ca6-43b2-cd9b-d30b0dfb868e",
        "colab": {
          "base_uri": "https://localhost:8080/",
          "height": 35
        }
      },
      "source": [
        "#4\n",
        "arr = np.array([0, 1, 2, 3, 4, 5, 6, 7, 8, 9])\n",
        "arr[arr%2==1] #홀수인 부분만 뽑아냄"
      ],
      "execution_count": 0,
      "outputs": [
        {
          "output_type": "execute_result",
          "data": {
            "text/plain": [
              "array([1, 3, 5, 7, 9])"
            ]
          },
          "metadata": {
            "tags": []
          },
          "execution_count": 9
        }
      ]
    },
    {
      "cell_type": "code",
      "metadata": {
        "id": "nutKngROCdMC",
        "colab_type": "code",
        "outputId": "0d271c57-7429-45b2-876b-3d0a5f0055d3",
        "colab": {
          "base_uri": "https://localhost:8080/",
          "height": 35
        }
      },
      "source": [
        "#5\n",
        "arr[arr%2==1]=-1\n",
        "arr"
      ],
      "execution_count": 0,
      "outputs": [
        {
          "output_type": "execute_result",
          "data": {
            "text/plain": [
              "array([ 0, -1,  2, -1,  4, -1,  6, -1,  8, -1])"
            ]
          },
          "metadata": {
            "tags": []
          },
          "execution_count": 12
        }
      ]
    },
    {
      "cell_type": "code",
      "metadata": {
        "id": "TCMbkM3DCdJi",
        "colab_type": "code",
        "outputId": "2463cca5-593c-487e-ea86-26f7453ea415",
        "colab": {
          "base_uri": "https://localhost:8080/",
          "height": 53
        }
      },
      "source": [
        "#6\n",
        "arr=np.arange(10)\n",
        "out=np.where(arr%2==1,-1,arr)\n",
        "print(arr)\n",
        "out"
      ],
      "execution_count": 0,
      "outputs": [
        {
          "output_type": "stream",
          "text": [
            "[0 1 2 3 4 5 6 7 8 9]\n"
          ],
          "name": "stdout"
        },
        {
          "output_type": "execute_result",
          "data": {
            "text/plain": [
              "array([ 0, -1,  2, -1,  4, -1,  6, -1,  8, -1])"
            ]
          },
          "metadata": {
            "tags": []
          },
          "execution_count": 21
        }
      ]
    },
    {
      "cell_type": "code",
      "metadata": {
        "id": "YBm4jgvUCdHZ",
        "colab_type": "code",
        "outputId": "63692e8d-9511-48c7-bbc9-d71495d77eae",
        "colab": {
          "base_uri": "https://localhost:8080/",
          "height": 53
        }
      },
      "source": [
        "#7\n",
        "arr=np.arange(10)\n",
        "arr.reshape(2,5)"
      ],
      "execution_count": 0,
      "outputs": [
        {
          "output_type": "execute_result",
          "data": {
            "text/plain": [
              "array([[0, 1, 2, 3, 4],\n",
              "       [5, 6, 7, 8, 9]])"
            ]
          },
          "metadata": {
            "tags": []
          },
          "execution_count": 23
        }
      ]
    },
    {
      "cell_type": "code",
      "metadata": {
        "id": "UN0EO_y7CdFs",
        "colab_type": "code",
        "outputId": "213c0cb9-230f-4ee5-8931-5cfd58e1002e",
        "colab": {
          "base_uri": "https://localhost:8080/",
          "height": 89
        }
      },
      "source": [
        "#8\n",
        "a = np.arange(10).reshape(2,-1)\n",
        "b = np.repeat(1, 10).reshape(2,-1)\n",
        "np.concatenate([a,b],axis=0) #행순서로 합침"
      ],
      "execution_count": 0,
      "outputs": [
        {
          "output_type": "execute_result",
          "data": {
            "text/plain": [
              "array([[0, 1, 2, 3, 4],\n",
              "       [5, 6, 7, 8, 9],\n",
              "       [1, 1, 1, 1, 1],\n",
              "       [1, 1, 1, 1, 1]])"
            ]
          },
          "metadata": {
            "tags": []
          },
          "execution_count": 27
        }
      ]
    },
    {
      "cell_type": "code",
      "metadata": {
        "id": "InQ86vkYCdDI",
        "colab_type": "code",
        "outputId": "51e15ab9-10dd-4927-b7c2-61b4d4c0e9e3",
        "colab": {
          "base_uri": "https://localhost:8080/",
          "height": 53
        }
      },
      "source": [
        "#9\n",
        "a = np.arange(10).reshape(2,-1)\n",
        "b = np.repeat(1, 10).reshape(2,-1)\n",
        "np.concatenate([a,b],axis=1)"
      ],
      "execution_count": 0,
      "outputs": [
        {
          "output_type": "execute_result",
          "data": {
            "text/plain": [
              "array([[0, 1, 2, 3, 4, 1, 1, 1, 1, 1],\n",
              "       [5, 6, 7, 8, 9, 1, 1, 1, 1, 1]])"
            ]
          },
          "metadata": {
            "tags": []
          },
          "execution_count": 28
        }
      ]
    },
    {
      "cell_type": "code",
      "metadata": {
        "id": "OFeBFEU4CdAy",
        "colab_type": "code",
        "outputId": "f225a8c3-c6dc-40e1-be79-4e1849263f6a",
        "colab": {
          "base_uri": "https://localhost:8080/",
          "height": 35
        }
      },
      "source": [
        "#10\n",
        "a = np.array([1,2,3])\n",
        "np.r_[np.repeat(a,3),np.tile(a,3)] #r_뒤에 더 추가할때 사용"
      ],
      "execution_count": 0,
      "outputs": [
        {
          "output_type": "execute_result",
          "data": {
            "text/plain": [
              "array([1, 1, 1, 2, 2, 2, 3, 3, 3, 1, 2, 3, 1, 2, 3, 1, 2, 3])"
            ]
          },
          "metadata": {
            "tags": []
          },
          "execution_count": 31
        }
      ]
    },
    {
      "cell_type": "code",
      "metadata": {
        "id": "sqThBpXrCc-z",
        "colab_type": "code",
        "outputId": "8295514e-34ff-468f-8cd6-e7ffcc7ac766",
        "colab": {
          "base_uri": "https://localhost:8080/",
          "height": 35
        }
      },
      "source": [
        "#11\n",
        "a = np.array([1,2,3,2,3,4,3,4,5,6])\n",
        "b = np.array([7,2,10,2,7,4,9,4,9,8])\n",
        "np.intersect1d(a,b) #공통원소를 배열하여 반환한다."
      ],
      "execution_count": 0,
      "outputs": [
        {
          "output_type": "execute_result",
          "data": {
            "text/plain": [
              "array([2, 4])"
            ]
          },
          "metadata": {
            "tags": []
          },
          "execution_count": 32
        }
      ]
    },
    {
      "cell_type": "code",
      "metadata": {
        "id": "nMbfVYgrCc9A",
        "colab_type": "code",
        "outputId": "42773270-9475-4dd3-c004-9b3da82cbf95",
        "colab": {
          "base_uri": "https://localhost:8080/",
          "height": 35
        }
      },
      "source": [
        "#12\n",
        "a = np.array([1,2,3,4,5])\n",
        "b = np.array([5,6,7,8,9])\n",
        "np.setdiff1d(a,b) #겹치는걸 지울때 사용 a에서 b에 있는 원소들을 지우고 반환"
      ],
      "execution_count": 0,
      "outputs": [
        {
          "output_type": "execute_result",
          "data": {
            "text/plain": [
              "array([1, 2, 3, 4])"
            ]
          },
          "metadata": {
            "tags": []
          },
          "execution_count": 33
        }
      ]
    },
    {
      "cell_type": "code",
      "metadata": {
        "id": "_IdMbNoTCc6A",
        "colab_type": "code",
        "outputId": "937ddcef-9466-4f63-ce46-394188ea8a92",
        "colab": {
          "base_uri": "https://localhost:8080/",
          "height": 35
        }
      },
      "source": [
        "#13\n",
        "a = np.array([1,2,3,2,3,4,3,4,5,6])\n",
        "b = np.array([7,2,10,2,7,4,9,4,9,8])\n",
        "np.where(a==b) #같은 원소의 위치를 반환함"
      ],
      "execution_count": 0,
      "outputs": [
        {
          "output_type": "execute_result",
          "data": {
            "text/plain": [
              "(array([1, 3, 5, 7]),)"
            ]
          },
          "metadata": {
            "tags": []
          },
          "execution_count": 34
        }
      ]
    },
    {
      "cell_type": "code",
      "metadata": {
        "id": "H6-HhSC4Cc36",
        "colab_type": "code",
        "outputId": "d5d4a50a-09b2-4a90-c170-907e89312c5c",
        "colab": {
          "base_uri": "https://localhost:8080/",
          "height": 35
        }
      },
      "source": [
        "#14\n",
        "a = np.array([2, 6, 1, 9, 10, 3, 27])\n",
        "a[(a>=5) & (a<=10)]"
      ],
      "execution_count": 0,
      "outputs": [
        {
          "output_type": "execute_result",
          "data": {
            "text/plain": [
              "array([ 6,  9, 10])"
            ]
          },
          "metadata": {
            "tags": []
          },
          "execution_count": 36
        }
      ]
    },
    {
      "cell_type": "code",
      "metadata": {
        "id": "m7WZaK3TCc1m",
        "colab_type": "code",
        "outputId": "1700dd84-f4ac-4ff3-f7b3-60bfb82972ef",
        "colab": {
          "base_uri": "https://localhost:8080/",
          "height": 35
        }
      },
      "source": [
        "#15\n",
        "def maxx(x, y):\n",
        "    \"\"\"Get the maximum of two items\"\"\"\n",
        "    if x >= y:\n",
        "        return x\n",
        "    else:\n",
        "        return y\n",
        "\n",
        "pair_max=np.vectorize(maxx,otypes=[float])\n",
        "\n",
        "maxx(1, 5)\n",
        "\n",
        "a = np.array([5, 7, 9, 8, 6, 4, 5])\n",
        "b = np.array([6, 3, 4, 8, 9, 7, 1])\n",
        "\n",
        "pair_max(a, b)\n"
      ],
      "execution_count": 0,
      "outputs": [
        {
          "output_type": "execute_result",
          "data": {
            "text/plain": [
              "array([6., 7., 9., 8., 9., 7., 5.])"
            ]
          },
          "metadata": {
            "tags": []
          },
          "execution_count": 40
        }
      ]
    },
    {
      "cell_type": "code",
      "metadata": {
        "id": "0xPnIzvjCczi",
        "colab_type": "code",
        "outputId": "a42060cd-4ada-4440-a1df-8cee1ba507d3",
        "colab": {
          "base_uri": "https://localhost:8080/",
          "height": 71
        }
      },
      "source": [
        "#16\n",
        "arr = np.arange(9).reshape(3,3)\n",
        "arr\n",
        "arr[:, [1,0,2]]"
      ],
      "execution_count": 0,
      "outputs": [
        {
          "output_type": "execute_result",
          "data": {
            "text/plain": [
              "array([[1, 0, 2],\n",
              "       [4, 3, 5],\n",
              "       [7, 6, 8]])"
            ]
          },
          "metadata": {
            "tags": []
          },
          "execution_count": 44
        }
      ]
    },
    {
      "cell_type": "code",
      "metadata": {
        "id": "EaS97yEkCcx-",
        "colab_type": "code",
        "outputId": "48ed059e-3e83-4d6a-efe1-33d9d9171679",
        "colab": {
          "base_uri": "https://localhost:8080/",
          "height": 71
        }
      },
      "source": [
        "#17 문제 정확히 잘 모르겠음\n",
        "arr = np.arange(9).reshape(3,3)\n",
        "arr\n",
        "arr[[1,0,2], :]\n"
      ],
      "execution_count": 0,
      "outputs": [
        {
          "output_type": "execute_result",
          "data": {
            "text/plain": [
              "array([[3, 4, 5],\n",
              "       [0, 1, 2],\n",
              "       [6, 7, 8]])"
            ]
          },
          "metadata": {
            "tags": []
          },
          "execution_count": 43
        }
      ]
    },
    {
      "cell_type": "code",
      "metadata": {
        "id": "C9bnpajxCcwc",
        "colab_type": "code",
        "outputId": "20aeab07-c401-457d-e712-2fc2499b3302",
        "colab": {
          "base_uri": "https://localhost:8080/",
          "height": 71
        }
      },
      "source": [
        "#18 reverse\n",
        "arr = np.arange(9).reshape(3,3)\n",
        "arr[::-1]"
      ],
      "execution_count": 0,
      "outputs": [
        {
          "output_type": "execute_result",
          "data": {
            "text/plain": [
              "array([[6, 7, 8],\n",
              "       [3, 4, 5],\n",
              "       [0, 1, 2]])"
            ]
          },
          "metadata": {
            "tags": []
          },
          "execution_count": 45
        }
      ]
    },
    {
      "cell_type": "code",
      "metadata": {
        "id": "Oce3NwJWCcu-",
        "colab_type": "code",
        "outputId": "6ffd76c5-527b-430c-9d93-5d9e0bea6390",
        "colab": {
          "base_uri": "https://localhost:8080/",
          "height": 71
        }
      },
      "source": [
        "#19\n",
        "arr[:,::-1]"
      ],
      "execution_count": 0,
      "outputs": [
        {
          "output_type": "execute_result",
          "data": {
            "text/plain": [
              "array([[2, 1, 0],\n",
              "       [5, 4, 3],\n",
              "       [8, 7, 6]])"
            ]
          },
          "metadata": {
            "tags": []
          },
          "execution_count": 46
        }
      ]
    },
    {
      "cell_type": "code",
      "metadata": {
        "id": "0nwqSDpSCcrx",
        "colab_type": "code",
        "outputId": "4539d357-f058-4421-998a-a87fe362810d",
        "colab": {
          "base_uri": "https://localhost:8080/",
          "height": 107
        }
      },
      "source": [
        "#20\n",
        "np.random.randint(5,10,(5,3))+np.random.random((5,3))"
      ],
      "execution_count": 0,
      "outputs": [
        {
          "output_type": "execute_result",
          "data": {
            "text/plain": [
              "array([[7.39933408, 8.58031565, 7.63989423],\n",
              "       [6.33455901, 9.18157512, 8.70303205],\n",
              "       [6.30560556, 8.07380776, 7.03188822],\n",
              "       [8.07001432, 5.04339708, 8.60764702],\n",
              "       [5.02471893, 9.42441279, 6.84133153]])"
            ]
          },
          "metadata": {
            "tags": []
          },
          "execution_count": 52
        }
      ]
    },
    {
      "cell_type": "code",
      "metadata": {
        "id": "ZrLmy6S4Cco4",
        "colab_type": "code",
        "outputId": "9e90c1c8-318d-48ef-ecfb-ba921566cd3d",
        "colab": {
          "base_uri": "https://localhost:8080/",
          "height": 89
        }
      },
      "source": [
        "#21 소수점 자리 표기\n",
        "rand_arr = np.random.random((5,3))\n",
        "rand_arr = np.random.random([5,3])\n",
        "rand_arr\n",
        "np.set_printoptions(precision=3)\n",
        "rand_arr[:4]"
      ],
      "execution_count": 0,
      "outputs": [
        {
          "output_type": "execute_result",
          "data": {
            "text/plain": [
              "array([[0.177, 0.733, 0.511],\n",
              "       [0.764, 0.137, 0.646],\n",
              "       [0.166, 0.376, 0.947],\n",
              "       [0.069, 0.785, 0.33 ]])"
            ]
          },
          "metadata": {
            "tags": []
          },
          "execution_count": 57
        }
      ]
    },
    {
      "cell_type": "code",
      "metadata": {
        "id": "EuejBm4DCcmv",
        "colab_type": "code",
        "outputId": "69a5af84-90e4-47cc-bcef-08056ebeb8f0",
        "colab": {
          "base_uri": "https://localhost:8080/",
          "height": 71
        }
      },
      "source": [
        "#22\n",
        "np.random.seed(100)\n",
        "rand_arr = np.random.random([3,3])/1e3\n",
        "rand_arr\n",
        "np.set_printoptions(suppress=True, precision=3)  # precision is optional\n",
        "rand_arr"
      ],
      "execution_count": 0,
      "outputs": [
        {
          "output_type": "execute_result",
          "data": {
            "text/plain": [
              "array([[0.000543, 0.000278, 0.000425],\n",
              "       [0.000845, 0.000005, 0.000122],\n",
              "       [0.000671, 0.000826, 0.000137]])"
            ]
          },
          "metadata": {
            "tags": []
          },
          "execution_count": 59
        }
      ]
    },
    {
      "cell_type": "code",
      "metadata": {
        "id": "bU87dxBFCclD",
        "colab_type": "code",
        "outputId": "3eca6781-b5c5-4d10-cc35-a6b644099071",
        "colab": {
          "base_uri": "https://localhost:8080/",
          "height": 35
        }
      },
      "source": [
        "#23 원하는 데이터 만큼만 표기\n",
        "np.set_printoptions(threshold=6)\n",
        "a=np.arange(15)\n",
        "a"
      ],
      "execution_count": 0,
      "outputs": [
        {
          "output_type": "execute_result",
          "data": {
            "text/plain": [
              "array([ 0,  1,  2, ..., 12, 13, 14])"
            ]
          },
          "metadata": {
            "tags": []
          },
          "execution_count": 68
        }
      ]
    },
    {
      "cell_type": "code",
      "metadata": {
        "id": "dxtXpIq9Ccjd",
        "colab_type": "code",
        "outputId": "e96b25c6-c3e4-492e-99e4-29760569f0e8",
        "colab": {
          "base_uri": "https://localhost:8080/",
          "height": 35
        }
      },
      "source": [
        "#24 답하고 다르게 해야풀림\n",
        "a = np.arange(15)\n",
        "import sys\n",
        "np.set_printoptions(threshold=sys.maxsize)\n",
        "a"
      ],
      "execution_count": 0,
      "outputs": [
        {
          "output_type": "execute_result",
          "data": {
            "text/plain": [
              "array([ 0,  1,  2,  3,  4,  5,  6,  7,  8,  9, 10, 11, 12, 13, 14])"
            ]
          },
          "metadata": {
            "tags": []
          },
          "execution_count": 83
        }
      ]
    },
    {
      "cell_type": "code",
      "metadata": {
        "id": "1I5ohNKTCchn",
        "colab_type": "code",
        "outputId": "a50aa652-cc17-47bc-9c1e-f81bac8fca4d",
        "colab": {
          "base_uri": "https://localhost:8080/",
          "height": 71
        }
      },
      "source": [
        "#25\n",
        "url = 'https://archive.ics.uci.edu/ml/machine-learning-databases/iris/iris.data'\n",
        "iris = np.genfromtxt(url, delimiter=',', dtype='object')\n",
        "names = ('sepallength', 'sepalwidth', 'petallength', 'petalwidth', 'species')\n",
        "iris[:3]"
      ],
      "execution_count": 0,
      "outputs": [
        {
          "output_type": "execute_result",
          "data": {
            "text/plain": [
              "array([[b'5.1', b'3.5', b'1.4', b'0.2', b'Iris-setosa'],\n",
              "       [b'4.9', b'3.0', b'1.4', b'0.2', b'Iris-setosa'],\n",
              "       [b'4.7', b'3.2', b'1.3', b'0.2', b'Iris-setosa']], dtype=object)"
            ]
          },
          "metadata": {
            "tags": []
          },
          "execution_count": 85
        }
      ]
    },
    {
      "cell_type": "code",
      "metadata": {
        "id": "ghAXT7mpCceP",
        "colab_type": "code",
        "outputId": "2ba080b7-2845-4bc8-d577-e886401a659b",
        "colab": {
          "base_uri": "https://localhost:8080/",
          "height": 127
        }
      },
      "source": [
        "#26\n",
        "url = 'https://archive.ics.uci.edu/ml/machine-learning-databases/iris/iris.data'\n",
        "iris_1d = np.genfromtxt(url, delimiter=',', dtype=None)\n",
        "print(iris_1d.shape)\n",
        "species = np.array([row[4] for row in iris_1d])\n",
        "species[:5]"
      ],
      "execution_count": 0,
      "outputs": [
        {
          "output_type": "stream",
          "text": [
            "(150,)\n"
          ],
          "name": "stdout"
        },
        {
          "output_type": "stream",
          "text": [
            "/usr/local/lib/python3.6/dist-packages/ipykernel_launcher.py:2: VisibleDeprecationWarning: Reading unicode strings without specifying the encoding argument is deprecated. Set the encoding, use None for the system default.\n",
            "  \n"
          ],
          "name": "stderr"
        },
        {
          "output_type": "execute_result",
          "data": {
            "text/plain": [
              "array([b'Iris-setosa', b'Iris-setosa', b'Iris-setosa', b'Iris-setosa',\n",
              "       b'Iris-setosa'], dtype='|S18')"
            ]
          },
          "metadata": {
            "tags": []
          },
          "execution_count": 7
        }
      ]
    },
    {
      "cell_type": "code",
      "metadata": {
        "id": "f0hICB6gwtPw",
        "colab_type": "code",
        "outputId": "66c3293f-dd9f-4586-d1de-6a42e79a6f1c",
        "colab": {
          "base_uri": "https://localhost:8080/",
          "height": 89
        }
      },
      "source": [
        "#27\n",
        "iris_2d=np.array([row.tolist()[:4] for row in iris_1d])\n",
        "iris_2d[:4]"
      ],
      "execution_count": 0,
      "outputs": [
        {
          "output_type": "execute_result",
          "data": {
            "text/plain": [
              "array([[5.1, 3.5, 1.4, 0.2],\n",
              "       [4.9, 3. , 1.4, 0.2],\n",
              "       [4.7, 3.2, 1.3, 0.2],\n",
              "       [4.6, 3.1, 1.5, 0.2]])"
            ]
          },
          "metadata": {
            "tags": []
          },
          "execution_count": 9
        }
      ]
    },
    {
      "cell_type": "code",
      "metadata": {
        "id": "IkMrkPPfxQEX",
        "colab_type": "code",
        "outputId": "c0243832-20e9-4891-df33-fba87877637c",
        "colab": {
          "base_uri": "https://localhost:8080/",
          "height": 35
        }
      },
      "source": [
        "#28\n",
        "iris = np.genfromtxt(url, delimiter=',', dtype='object')\n",
        "sepallength = np.genfromtxt(url, delimiter=',', dtype='float', usecols=[0])\n",
        "mu,med,sd=np.mean(sepallength),np.median(sepallength),np.std(sepallength)\n",
        "print(mu,med,sd)"
      ],
      "execution_count": 0,
      "outputs": [
        {
          "output_type": "stream",
          "text": [
            "5.843333333333334 5.8 0.8253012917851409\n"
          ],
          "name": "stdout"
        }
      ]
    },
    {
      "cell_type": "code",
      "metadata": {
        "id": "uODkI7FZxQAo",
        "colab_type": "code",
        "outputId": "829e0886-6542-49ec-b31d-70e233171195",
        "colab": {
          "base_uri": "https://localhost:8080/",
          "height": 359
        }
      },
      "source": [
        "#29\n",
        "Smax, Smin = sepallength.max(), sepallength.min()\n",
        "S = (sepallength - Smin)/(Smax - Smin)\n",
        "print(S)"
      ],
      "execution_count": 0,
      "outputs": [
        {
          "output_type": "stream",
          "text": [
            "[0.222222 0.166667 0.111111 0.083333 0.194444 0.305556 0.083333 0.194444\n",
            " 0.027778 0.166667 0.305556 0.138889 0.138889 0.       0.416667 0.388889\n",
            " 0.305556 0.222222 0.388889 0.222222 0.305556 0.222222 0.083333 0.222222\n",
            " 0.138889 0.194444 0.194444 0.25     0.25     0.111111 0.138889 0.305556\n",
            " 0.25     0.333333 0.166667 0.194444 0.333333 0.166667 0.027778 0.222222\n",
            " 0.194444 0.055556 0.027778 0.194444 0.222222 0.138889 0.222222 0.083333\n",
            " 0.277778 0.194444 0.75     0.583333 0.722222 0.333333 0.611111 0.388889\n",
            " 0.555556 0.166667 0.638889 0.25     0.194444 0.444444 0.472222 0.5\n",
            " 0.361111 0.666667 0.361111 0.416667 0.527778 0.361111 0.444444 0.5\n",
            " 0.555556 0.5      0.583333 0.638889 0.694444 0.666667 0.472222 0.388889\n",
            " 0.333333 0.333333 0.416667 0.472222 0.305556 0.472222 0.666667 0.555556\n",
            " 0.361111 0.333333 0.333333 0.5      0.416667 0.194444 0.361111 0.388889\n",
            " 0.388889 0.527778 0.222222 0.388889 0.555556 0.416667 0.777778 0.555556\n",
            " 0.611111 0.916667 0.166667 0.833333 0.666667 0.805556 0.611111 0.583333\n",
            " 0.694444 0.388889 0.416667 0.583333 0.611111 0.944444 0.944444 0.472222\n",
            " 0.722222 0.361111 0.944444 0.555556 0.666667 0.805556 0.527778 0.5\n",
            " 0.583333 0.805556 0.861111 1.       0.583333 0.555556 0.5      0.944444\n",
            " 0.555556 0.583333 0.472222 0.722222 0.666667 0.722222 0.416667 0.694444\n",
            " 0.666667 0.666667 0.555556 0.611111 0.527778 0.444444]\n"
          ],
          "name": "stdout"
        }
      ]
    },
    {
      "cell_type": "code",
      "metadata": {
        "id": "sPQj1a2nxP-H",
        "colab_type": "code",
        "outputId": "651b0c09-f8b7-4082-8513-d3b1ef7f2c36",
        "colab": {
          "base_uri": "https://localhost:8080/",
          "height": 251
        }
      },
      "source": [
        "#30\n",
        "def softmax(x):\n",
        "    e_x=np.exp(x-np.max(x))\n",
        "    return e_x/e_x.sum(axis=0)\n",
        "\n",
        "\n",
        "np.set_printoptions(suppress=True, precision=3)\n",
        "print(softmax(sepallength))"
      ],
      "execution_count": 0,
      "outputs": [
        {
          "output_type": "stream",
          "text": [
            "[0.002 0.002 0.001 0.001 0.002 0.003 0.001 0.002 0.001 0.002 0.003 0.002\n",
            " 0.002 0.001 0.004 0.004 0.003 0.002 0.004 0.002 0.003 0.002 0.001 0.002\n",
            " 0.002 0.002 0.002 0.002 0.002 0.001 0.002 0.003 0.002 0.003 0.002 0.002\n",
            " 0.003 0.002 0.001 0.002 0.002 0.001 0.001 0.002 0.002 0.002 0.002 0.001\n",
            " 0.003 0.002 0.015 0.008 0.013 0.003 0.009 0.004 0.007 0.002 0.01  0.002\n",
            " 0.002 0.005 0.005 0.006 0.004 0.011 0.004 0.004 0.007 0.004 0.005 0.006\n",
            " 0.007 0.006 0.008 0.01  0.012 0.011 0.005 0.004 0.003 0.003 0.004 0.005\n",
            " 0.003 0.005 0.011 0.007 0.004 0.003 0.003 0.006 0.004 0.002 0.004 0.004\n",
            " 0.004 0.007 0.002 0.004 0.007 0.004 0.016 0.007 0.009 0.027 0.002 0.02\n",
            " 0.011 0.018 0.009 0.008 0.012 0.004 0.004 0.008 0.009 0.03  0.03  0.005\n",
            " 0.013 0.004 0.03  0.007 0.011 0.018 0.007 0.006 0.008 0.018 0.022 0.037\n",
            " 0.008 0.007 0.006 0.03  0.007 0.008 0.005 0.013 0.011 0.013 0.004 0.012\n",
            " 0.011 0.011 0.007 0.009 0.007 0.005]\n"
          ],
          "name": "stdout"
        }
      ]
    },
    {
      "cell_type": "code",
      "metadata": {
        "id": "u7Z_8oy5cT97",
        "colab_type": "code",
        "outputId": "1c5cc5d9-d19a-4745-87d8-0a5e32abc557",
        "colab": {
          "base_uri": "https://localhost:8080/",
          "height": 35
        }
      },
      "source": [
        "#31\n",
        "import numpy as np\n",
        "np.percentile(sepallength,q=[5,95])"
      ],
      "execution_count": 0,
      "outputs": [
        {
          "output_type": "execute_result",
          "data": {
            "text/plain": [
              "array([4.6  , 7.255])"
            ]
          },
          "metadata": {
            "tags": []
          },
          "execution_count": 8
        }
      ]
    },
    {
      "cell_type": "code",
      "metadata": {
        "id": "sdCkfs0DcUKc",
        "colab_type": "code",
        "outputId": "074667d7-abea-43ec-cd24-555900efa6e9",
        "colab": {
          "base_uri": "https://localhost:8080/",
          "height": 197
        }
      },
      "source": [
        "#32\n",
        "iris_2d = np.genfromtxt(url, delimiter=',', dtype='object')\n",
        "np.random.seed(100)\n",
        "iris_2d[np.random.randint(150,size=20),np.random.randint(4,size=20)]=np.nan\n",
        "print(iris_2d[:10])"
      ],
      "execution_count": 0,
      "outputs": [
        {
          "output_type": "stream",
          "text": [
            "[[b'5.1' b'3.5' b'1.4' b'0.2' b'Iris-setosa']\n",
            " [b'4.9' b'3.0' b'1.4' b'0.2' b'Iris-setosa']\n",
            " [b'4.7' b'3.2' b'1.3' b'0.2' b'Iris-setosa']\n",
            " [b'4.6' b'3.1' b'1.5' b'0.2' b'Iris-setosa']\n",
            " [b'5.0' b'3.6' b'1.4' b'0.2' b'Iris-setosa']\n",
            " [b'5.4' b'3.9' b'1.7' b'0.4' b'Iris-setosa']\n",
            " [b'4.6' b'3.4' b'1.4' b'0.3' b'Iris-setosa']\n",
            " [b'5.0' b'3.4' b'1.5' b'0.2' b'Iris-setosa']\n",
            " [b'4.4' nan b'1.4' b'0.2' b'Iris-setosa']\n",
            " [b'4.9' b'3.1' b'1.5' b'0.1' b'Iris-setosa']]\n"
          ],
          "name": "stdout"
        }
      ]
    },
    {
      "cell_type": "code",
      "metadata": {
        "id": "7t8qJJhBcURJ",
        "colab_type": "code",
        "outputId": "e4636cf3-b3ee-4d03-f53f-fc2b24c8cc0a",
        "colab": {
          "base_uri": "https://localhost:8080/",
          "height": 89
        }
      },
      "source": [
        "#33\n",
        "iris_2d = np.genfromtxt(url, delimiter=',', dtype='float', usecols=[0,1,2,3])\n",
        "iris_2d[np.random.randint(150, size=20), np.random.randint(4, size=20)] = np.nan\n",
        "\n",
        "print(\"Number of missing values: \\n\", np.isnan(iris_2d[:, 0]).sum())\n",
        "print(\"Position of missing values: \\n\", np.where(np.isnan(iris_2d[:, 0])))"
      ],
      "execution_count": 0,
      "outputs": [
        {
          "output_type": "stream",
          "text": [
            "Number of missing values: \n",
            " 5\n",
            "Position of missing values: \n",
            " (array([ 38,  80, 106, 113, 121]),)\n"
          ],
          "name": "stdout"
        }
      ]
    },
    {
      "cell_type": "code",
      "metadata": {
        "id": "VMwVbky2cUYJ",
        "colab_type": "code",
        "outputId": "082ed0af-fa8a-46fe-8605-2a2093097423",
        "colab": {
          "base_uri": "https://localhost:8080/",
          "height": 125
        }
      },
      "source": [
        "#34\n",
        "iris_2d = np.genfromtxt(url, delimiter=',', dtype='float', usecols=[0,1,2,3])\n",
        "condition=(iris_2d[:,2]>1.5)&(iris_2d[:,0]<5.0)\n",
        "iris_2d[condition]"
      ],
      "execution_count": 0,
      "outputs": [
        {
          "output_type": "execute_result",
          "data": {
            "text/plain": [
              "array([[4.8, 3.4, 1.6, 0.2],\n",
              "       [4.8, 3.4, 1.9, 0.2],\n",
              "       [4.7, 3.2, 1.6, 0.2],\n",
              "       [4.8, 3.1, 1.6, 0.2],\n",
              "       [4.9, 2.4, 3.3, 1. ],\n",
              "       [4.9, 2.5, 4.5, 1.7]])"
            ]
          },
          "metadata": {
            "tags": []
          },
          "execution_count": 20
        }
      ]
    },
    {
      "cell_type": "code",
      "metadata": {
        "id": "Y7KiDbjAcUfd",
        "colab_type": "code",
        "outputId": "9f9af2c6-9a35-4424-de3b-c73490e5e381",
        "colab": {
          "base_uri": "https://localhost:8080/",
          "height": 107
        }
      },
      "source": [
        "#35\n",
        "iris_2d = np.genfromtxt(url, delimiter=',', dtype='float', usecols=[0,1,2,3])\n",
        "iris_2d[np.random.randint(150, size=20), np.random.randint(4, size=20)] = np.nan\n",
        "iris_2d[np.sum(np.isnan(iris_2d), axis = 1) == 0][:5]"
      ],
      "execution_count": 0,
      "outputs": [
        {
          "output_type": "execute_result",
          "data": {
            "text/plain": [
              "array([[5.1, 3.5, 1.4, 0.2],\n",
              "       [4.9, 3. , 1.4, 0.2],\n",
              "       [4.7, 3.2, 1.3, 0.2],\n",
              "       [4.6, 3.1, 1.5, 0.2],\n",
              "       [5. , 3.6, 1.4, 0.2]])"
            ]
          },
          "metadata": {
            "tags": []
          },
          "execution_count": 26
        }
      ]
    },
    {
      "cell_type": "code",
      "metadata": {
        "id": "BbMC_gK8cUjV",
        "colab_type": "code",
        "outputId": "0a065b0b-45e6-448c-81fa-3d64bba36f63",
        "colab": {
          "base_uri": "https://localhost:8080/",
          "height": 35
        }
      },
      "source": [
        "#36\n",
        "iris = np.genfromtxt(url, delimiter=',', dtype='float', usecols=[0,1,2,3])\n",
        "np.corrcoef(iris[:, 0], iris[:, 2])[0, 1]"
      ],
      "execution_count": 0,
      "outputs": [
        {
          "output_type": "execute_result",
          "data": {
            "text/plain": [
              "0.8717541573048718"
            ]
          },
          "metadata": {
            "tags": []
          },
          "execution_count": 28
        }
      ]
    },
    {
      "cell_type": "code",
      "metadata": {
        "id": "t0lawECfcUdx",
        "colab_type": "code",
        "outputId": "86171744-ec68-4ead-e6c5-e298cf5affc7",
        "colab": {
          "base_uri": "https://localhost:8080/",
          "height": 35
        }
      },
      "source": [
        "#37\n",
        "iris_2d = np.genfromtxt(url, delimiter=',', dtype='float', usecols=[0,1,2,3])\n",
        "np.isnan(iris_2d).any()"
      ],
      "execution_count": 0,
      "outputs": [
        {
          "output_type": "execute_result",
          "data": {
            "text/plain": [
              "False"
            ]
          },
          "metadata": {
            "tags": []
          },
          "execution_count": 30
        }
      ]
    },
    {
      "cell_type": "code",
      "metadata": {
        "id": "KZLJdY1mcUb_",
        "colab_type": "code",
        "outputId": "ffb199de-7fab-451b-fb17-baa8c1a87885",
        "colab": {
          "base_uri": "https://localhost:8080/",
          "height": 89
        }
      },
      "source": [
        "#38\n",
        "iris_2d = np.genfromtxt(url, delimiter=',', dtype='float', usecols=[0,1,2,3])\n",
        "iris_2d[np.random.randint(150, size=20), np.random.randint(4, size=20)] = np.nan\n",
        "iris_2d[np.isnan(iris_2d)]=0\n",
        "iris_2d[:4]"
      ],
      "execution_count": 0,
      "outputs": [
        {
          "output_type": "execute_result",
          "data": {
            "text/plain": [
              "array([[5.1, 3.5, 1.4, 0. ],\n",
              "       [4.9, 3. , 1.4, 0.2],\n",
              "       [4.7, 3.2, 1.3, 0.2],\n",
              "       [4.6, 3.1, 1.5, 0.2]])"
            ]
          },
          "metadata": {
            "tags": []
          },
          "execution_count": 31
        }
      ]
    },
    {
      "cell_type": "code",
      "metadata": {
        "id": "GbObKszocUWx",
        "colab_type": "code",
        "outputId": "dfe1cf56-63fb-486b-b0ae-846cac543165",
        "colab": {
          "base_uri": "https://localhost:8080/",
          "height": 53
        }
      },
      "source": [
        "#39\n",
        "iris = np.genfromtxt(url, delimiter=',', dtype='object')\n",
        "names = ('sepallength', 'sepalwidth', 'petallength', 'petalwidth', 'species')\n",
        "np.unique(species, return_counts=True)"
      ],
      "execution_count": 0,
      "outputs": [
        {
          "output_type": "execute_result",
          "data": {
            "text/plain": [
              "(array([b'Iris-setosa', b'Iris-versicolor', b'Iris-virginica'],\n",
              "       dtype='|S18'), array([50, 50, 50]))"
            ]
          },
          "metadata": {
            "tags": []
          },
          "execution_count": 33
        }
      ]
    },
    {
      "cell_type": "code",
      "metadata": {
        "id": "n2-0_RV7cUVQ",
        "colab_type": "code",
        "outputId": "35c0072a-e591-4178-846f-f4513596f55e",
        "colab": {
          "base_uri": "https://localhost:8080/",
          "height": 143
        }
      },
      "source": [
        "#40\n",
        "iris = np.genfromtxt(url, delimiter=',', dtype='object')\n",
        "names = ('sepallength', 'sepalwidth', 'petallength', 'petalwidth', 'species')\n",
        "petal_length_bin = np.digitize(iris[:, 2].astype('float'), [0, 3, 5, 10])\n",
        "label_map = {1: 'small', 2: 'medium', 3: 'large', 4: np.nan}\n",
        "petal_length_cat = [label_map[x] for x in petal_length_bin]\n",
        "petal_length_cat[:4]\n"
      ],
      "execution_count": 0,
      "outputs": [
        {
          "output_type": "execute_result",
          "data": {
            "text/plain": [
              "array([1, 1, 1, 1, 1, 1, 1, 1, 1, 1, 1, 1, 1, 1, 1, 1, 1, 1, 1, 1, 1, 1,\n",
              "       1, 1, 1, 1, 1, 1, 1, 1, 1, 1, 1, 1, 1, 1, 1, 1, 1, 1, 1, 1, 1, 1,\n",
              "       1, 1, 1, 1, 1, 1, 2, 2, 2, 2, 2, 2, 2, 2, 2, 2, 2, 2, 2, 2, 2, 2,\n",
              "       2, 2, 2, 2, 2, 2, 2, 2, 2, 2, 2, 3, 2, 2, 2, 2, 2, 3, 2, 2, 2, 2,\n",
              "       2, 2, 2, 2, 2, 2, 2, 2, 2, 2, 2, 2, 3, 3, 3, 3, 3, 3, 2, 3, 3, 3,\n",
              "       3, 3, 3, 3, 3, 3, 3, 3, 3, 3, 3, 2, 3, 2, 3, 3, 2, 2, 3, 3, 3, 3,\n",
              "       3, 3, 3, 3, 3, 3, 2, 3, 3, 3, 3, 3, 3, 3, 3, 3, 3, 3])"
            ]
          },
          "metadata": {
            "tags": []
          },
          "execution_count": 47
        }
      ]
    },
    {
      "cell_type": "code",
      "metadata": {
        "id": "_mwbC3aLcUPR",
        "colab_type": "code",
        "outputId": "93737b32-4051-4a3c-cfb4-9ec8e661f26d",
        "colab": {
          "base_uri": "https://localhost:8080/",
          "height": 143
        }
      },
      "source": [
        "#41\n",
        "iris_2d = np.genfromtxt(url, delimiter=',', dtype='object')\n",
        "names = ('sepallength', 'sepalwidth', 'petallength', 'petalwidth', 'species')\n",
        "sepallength = iris_2d[:, 0].astype('float')\n",
        "petallength = iris_2d[:, 2].astype('float')\n",
        "volume = (np.pi * petallength * (sepallength**2))/3\n",
        "volume = volume[:, np.newaxis]\n",
        "out=np.hstack([iris_2d,volume])\n",
        "out[:4]"
      ],
      "execution_count": 0,
      "outputs": [
        {
          "output_type": "execute_result",
          "data": {
            "text/plain": [
              "array([[b'5.1', b'3.5', b'1.4', b'0.2', b'Iris-setosa',\n",
              "        38.13265162927291],\n",
              "       [b'4.9', b'3.0', b'1.4', b'0.2', b'Iris-setosa',\n",
              "        35.200498485922445],\n",
              "       [b'4.7', b'3.2', b'1.3', b'0.2', b'Iris-setosa', 30.0723720777127],\n",
              "       [b'4.6', b'3.1', b'1.5', b'0.2', b'Iris-setosa',\n",
              "        33.238050274980004]], dtype=object)"
            ]
          },
          "metadata": {
            "tags": []
          },
          "execution_count": 60
        }
      ]
    },
    {
      "cell_type": "code",
      "metadata": {
        "id": "kwOvASbicUNj",
        "colab_type": "code",
        "outputId": "2537bf60-a7e3-44fe-a162-5adb56777834",
        "colab": {
          "base_uri": "https://localhost:8080/",
          "height": 665
        }
      },
      "source": [
        "#42\n",
        "url = 'https://archive.ics.uci.edu/ml/machine-learning-databases/iris/iris.data'\n",
        "iris = np.genfromtxt(url, delimiter=',', dtype='object')\n",
        "species = iris[:, 4]\n",
        "np.random.seed(100)\n",
        "a = np.array(['Iris-setosa', 'Iris-versicolor', 'Iris-virginica'])\n",
        "species_out = np.random.choice(a, 150, p=[0.5, 0.25, 0.25])\n",
        "print(species_out)"
      ],
      "execution_count": 0,
      "outputs": [
        {
          "output_type": "stream",
          "text": [
            "['Iris-versicolor' 'Iris-setosa' 'Iris-setosa' 'Iris-virginica'\n",
            " 'Iris-setosa' 'Iris-setosa' 'Iris-versicolor' 'Iris-virginica'\n",
            " 'Iris-setosa' 'Iris-versicolor' 'Iris-virginica' 'Iris-setosa'\n",
            " 'Iris-setosa' 'Iris-setosa' 'Iris-setosa' 'Iris-virginica'\n",
            " 'Iris-virginica' 'Iris-setosa' 'Iris-virginica' 'Iris-setosa'\n",
            " 'Iris-setosa' 'Iris-virginica' 'Iris-virginica' 'Iris-setosa'\n",
            " 'Iris-setosa' 'Iris-setosa' 'Iris-setosa' 'Iris-setosa' 'Iris-virginica'\n",
            " 'Iris-setosa' 'Iris-versicolor' 'Iris-versicolor' 'Iris-setosa'\n",
            " 'Iris-setosa' 'Iris-setosa' 'Iris-virginica' 'Iris-virginica'\n",
            " 'Iris-setosa' 'Iris-virginica' 'Iris-versicolor' 'Iris-versicolor'\n",
            " 'Iris-versicolor' 'Iris-versicolor' 'Iris-setosa' 'Iris-setosa'\n",
            " 'Iris-versicolor' 'Iris-virginica' 'Iris-setosa' 'Iris-setosa'\n",
            " 'Iris-virginica' 'Iris-virginica' 'Iris-virginica' 'Iris-setosa'\n",
            " 'Iris-versicolor' 'Iris-setosa' 'Iris-setosa' 'Iris-setosa' 'Iris-setosa'\n",
            " 'Iris-setosa' 'Iris-versicolor' 'Iris-setosa' 'Iris-versicolor'\n",
            " 'Iris-versicolor' 'Iris-setosa' 'Iris-virginica' 'Iris-virginica'\n",
            " 'Iris-versicolor' 'Iris-setosa' 'Iris-setosa' 'Iris-setosa' 'Iris-setosa'\n",
            " 'Iris-setosa' 'Iris-setosa' 'Iris-virginica' 'Iris-virginica'\n",
            " 'Iris-versicolor' 'Iris-versicolor' 'Iris-setosa' 'Iris-setosa'\n",
            " 'Iris-setosa' 'Iris-versicolor' 'Iris-setosa' 'Iris-versicolor'\n",
            " 'Iris-virginica' 'Iris-setosa' 'Iris-setosa' 'Iris-virginica'\n",
            " 'Iris-virginica' 'Iris-setosa' 'Iris-versicolor' 'Iris-versicolor'\n",
            " 'Iris-setosa' 'Iris-setosa' 'Iris-setosa' 'Iris-setosa' 'Iris-versicolor'\n",
            " 'Iris-setosa' 'Iris-versicolor' 'Iris-setosa' 'Iris-versicolor'\n",
            " 'Iris-virginica' 'Iris-virginica' 'Iris-versicolor' 'Iris-setosa'\n",
            " 'Iris-versicolor' 'Iris-virginica' 'Iris-versicolor' 'Iris-virginica'\n",
            " 'Iris-virginica' 'Iris-setosa' 'Iris-setosa' 'Iris-setosa'\n",
            " 'Iris-virginica' 'Iris-virginica' 'Iris-setosa' 'Iris-setosa'\n",
            " 'Iris-versicolor' 'Iris-setosa' 'Iris-setosa' 'Iris-versicolor'\n",
            " 'Iris-versicolor' 'Iris-versicolor' 'Iris-versicolor' 'Iris-setosa'\n",
            " 'Iris-setosa' 'Iris-setosa' 'Iris-setosa' 'Iris-setosa' 'Iris-versicolor'\n",
            " 'Iris-setosa' 'Iris-setosa' 'Iris-setosa' 'Iris-virginica' 'Iris-setosa'\n",
            " 'Iris-setosa' 'Iris-setosa' 'Iris-versicolor' 'Iris-virginica'\n",
            " 'Iris-virginica' 'Iris-virginica' 'Iris-setosa' 'Iris-versicolor'\n",
            " 'Iris-versicolor' 'Iris-setosa' 'Iris-virginica' 'Iris-setosa'\n",
            " 'Iris-virginica' 'Iris-versicolor' 'Iris-setosa' 'Iris-setosa']\n"
          ],
          "name": "stdout"
        }
      ]
    },
    {
      "cell_type": "code",
      "metadata": {
        "id": "plZTQVU-cUFR",
        "colab_type": "code",
        "outputId": "e4201b90-3068-49c1-c38e-7316b5ba1d38",
        "colab": {
          "base_uri": "https://localhost:8080/",
          "height": 35
        }
      },
      "source": [
        "#43 \n",
        "iris = np.genfromtxt(url, delimiter=',', dtype='object')\n",
        "petal_len_setosa = iris[iris[:, 4] == b'Iris-setosa', [2]].astype('float')\n",
        "np.unique(np.sort(petal_len_setosa))[-2]#unique는 겹치는거 제거"
      ],
      "execution_count": 0,
      "outputs": [
        {
          "output_type": "execute_result",
          "data": {
            "text/plain": [
              "1.7"
            ]
          },
          "metadata": {
            "tags": []
          },
          "execution_count": 67
        }
      ]
    },
    {
      "cell_type": "code",
      "metadata": {
        "id": "VuwNw3JQcUD5",
        "colab_type": "code",
        "outputId": "255641ee-2da2-491c-bd62-4bb96ee42737",
        "colab": {
          "base_uri": "https://localhost:8080/",
          "height": 377
        }
      },
      "source": [
        "#44\n",
        "print(iris[iris[:,0].argsort()][:20])"
      ],
      "execution_count": 0,
      "outputs": [
        {
          "output_type": "stream",
          "text": [
            "[[b'4.3' b'3.0' b'1.1' b'0.1' b'Iris-setosa']\n",
            " [b'4.4' b'3.2' b'1.3' b'0.2' b'Iris-setosa']\n",
            " [b'4.4' b'3.0' b'1.3' b'0.2' b'Iris-setosa']\n",
            " [b'4.4' b'2.9' b'1.4' b'0.2' b'Iris-setosa']\n",
            " [b'4.5' b'2.3' b'1.3' b'0.3' b'Iris-setosa']\n",
            " [b'4.6' b'3.6' b'1.0' b'0.2' b'Iris-setosa']\n",
            " [b'4.6' b'3.1' b'1.5' b'0.2' b'Iris-setosa']\n",
            " [b'4.6' b'3.4' b'1.4' b'0.3' b'Iris-setosa']\n",
            " [b'4.6' b'3.2' b'1.4' b'0.2' b'Iris-setosa']\n",
            " [b'4.7' b'3.2' b'1.3' b'0.2' b'Iris-setosa']\n",
            " [b'4.7' b'3.2' b'1.6' b'0.2' b'Iris-setosa']\n",
            " [b'4.8' b'3.0' b'1.4' b'0.1' b'Iris-setosa']\n",
            " [b'4.8' b'3.0' b'1.4' b'0.3' b'Iris-setosa']\n",
            " [b'4.8' b'3.4' b'1.9' b'0.2' b'Iris-setosa']\n",
            " [b'4.8' b'3.4' b'1.6' b'0.2' b'Iris-setosa']\n",
            " [b'4.8' b'3.1' b'1.6' b'0.2' b'Iris-setosa']\n",
            " [b'4.9' b'2.4' b'3.3' b'1.0' b'Iris-versicolor']\n",
            " [b'4.9' b'2.5' b'4.5' b'1.7' b'Iris-virginica']\n",
            " [b'4.9' b'3.1' b'1.5' b'0.1' b'Iris-setosa']\n",
            " [b'4.9' b'3.1' b'1.5' b'0.1' b'Iris-setosa']]\n"
          ],
          "name": "stdout"
        }
      ]
    },
    {
      "cell_type": "code",
      "metadata": {
        "id": "flCzpLw1cUBo",
        "colab_type": "code",
        "outputId": "67cf3337-67d9-4477-f032-ee1231c31497",
        "colab": {
          "base_uri": "https://localhost:8080/",
          "height": 89
        }
      },
      "source": [
        "#45\n",
        "vals, counts = np.unique(iris[:, 2], return_counts=True)\n",
        "print(vals[np.argmax(counts)])"
      ],
      "execution_count": 0,
      "outputs": [
        {
          "output_type": "stream",
          "text": [
            "b'1.5'\n"
          ],
          "name": "stdout"
        },
        {
          "output_type": "execute_result",
          "data": {
            "text/plain": [
              "array([ 1,  1,  2,  7, 12, 14,  7,  4,  2,  1,  2,  2,  1,  1,  1,  3,  5,\n",
              "        3,  4,  2,  4,  8,  3,  5,  4,  5,  4,  8,  2,  2,  2,  3,  6,  3,\n",
              "        3,  2,  2,  3,  1,  1,  1,  2,  1])"
            ]
          },
          "metadata": {
            "tags": []
          },
          "execution_count": 75
        }
      ]
    },
    {
      "cell_type": "code",
      "metadata": {
        "id": "ZFBh5n5ccT74",
        "colab_type": "code",
        "outputId": "545c16ae-84ad-461a-912a-775100e733f2",
        "colab": {
          "base_uri": "https://localhost:8080/",
          "height": 35
        }
      },
      "source": [
        "#46\n",
        "np.argwhere(iris[:, 3].astype(float) > 1.0)[0] #1번째 시작하는 곳을 찾고자 함"
      ],
      "execution_count": 0,
      "outputs": [
        {
          "output_type": "execute_result",
          "data": {
            "text/plain": [
              "array([50])"
            ]
          },
          "metadata": {
            "tags": []
          },
          "execution_count": 78
        }
      ]
    },
    {
      "cell_type": "code",
      "metadata": {
        "id": "Z_0WRvzt9-Ev",
        "colab_type": "code",
        "outputId": "0b6fa3f8-af35-4cd1-fb52-013d9ce946f8",
        "colab": {
          "base_uri": "https://localhost:8080/",
          "height": 89
        }
      },
      "source": [
        "#47\n",
        "np.random.seed(100)\n",
        "a = np.random.uniform(1,50, 20)\n",
        "np.where(a<10,10,np.where(a>30,30,a))"
      ],
      "execution_count": 0,
      "outputs": [
        {
          "output_type": "execute_result",
          "data": {
            "text/plain": [
              "array([27.62684215, 14.64009987, 21.80136195, 30.        , 10.        ,\n",
              "       10.        , 30.        , 30.        , 10.        , 29.17957314,\n",
              "       30.        , 11.25090398, 10.08108276, 10.        , 11.76517714,\n",
              "       30.        , 30.        , 10.        , 30.        , 14.42961361])"
            ]
          },
          "metadata": {
            "tags": []
          },
          "execution_count": 84
        }
      ]
    },
    {
      "cell_type": "code",
      "metadata": {
        "id": "FfsHFIbz9-CS",
        "colab_type": "code",
        "outputId": "4a0d5976-6bf7-4f85-c93e-80af8792e4b3",
        "colab": {
          "base_uri": "https://localhost:8080/",
          "height": 35
        }
      },
      "source": [
        "#48\n",
        "np.random.seed(100)\n",
        "a = np.random.uniform(1,50, 20)\n",
        "a[a.argsort()][-5:]"
      ],
      "execution_count": 0,
      "outputs": [
        {
          "output_type": "execute_result",
          "data": {
            "text/plain": [
              "array([40.99501269, 41.466785  , 42.39403048, 44.67477576, 48.95256545])"
            ]
          },
          "metadata": {
            "tags": []
          },
          "execution_count": 88
        }
      ]
    },
    {
      "cell_type": "code",
      "metadata": {
        "id": "66nf2Eo39-AM",
        "colab_type": "code",
        "colab": {
          "base_uri": "https://localhost:8080/",
          "height": 143
        },
        "outputId": "c83e797f-d10d-4d30-cd45-2842e6db42af"
      },
      "source": [
        "#49\n",
        "import numpy as np\n",
        "\n",
        "np.random.seed(100)\n",
        "arr = np.random.randint(1,11,size=(6, 10))\n",
        "arr\n",
        "\n",
        "def counts_of_all_values_rowwise(arr2d):\n",
        "  num_counts_array = [np.unique(row, return_counts=True) for row in arr2d]\n",
        "  return([[int(b[a==i]) if i in a else 0 for i in np.unique(arr2d)] for a, b in num_counts_array])\n",
        "\n",
        "print(np.arange(1,11))\n",
        "counts_of_all_values_rowwise(arr)"
      ],
      "execution_count": 2,
      "outputs": [
        {
          "output_type": "stream",
          "text": [
            "[ 1  2  3  4  5  6  7  8  9 10]\n"
          ],
          "name": "stdout"
        },
        {
          "output_type": "execute_result",
          "data": {
            "text/plain": [
              "[[1, 0, 2, 1, 1, 1, 0, 2, 2, 0],\n",
              " [2, 1, 3, 0, 1, 0, 1, 0, 1, 1],\n",
              " [0, 3, 0, 2, 3, 1, 0, 1, 0, 0],\n",
              " [1, 0, 2, 1, 0, 1, 0, 2, 1, 2],\n",
              " [2, 2, 2, 0, 0, 1, 1, 1, 1, 0],\n",
              " [1, 1, 1, 1, 1, 2, 0, 0, 2, 1]]"
            ]
          },
          "metadata": {
            "tags": []
          },
          "execution_count": 2
        }
      ]
    },
    {
      "cell_type": "code",
      "metadata": {
        "id": "lQK0bANB99-D",
        "colab_type": "code",
        "colab": {
          "base_uri": "https://localhost:8080/",
          "height": 35
        },
        "outputId": "585c206b-73cd-4f23-daab-87b73c352472"
      },
      "source": [
        "#50\n",
        "arr1 = np.arange(3)\n",
        "arr2 = np.arange(3,7)\n",
        "arr3 = np.arange(7,10)\n",
        "\n",
        "array_of_arrays = np.array([arr1, arr2, arr3])\n",
        "array_of_arrays\n",
        "arr_2d = np.concatenate(array_of_arrays)\n",
        "print(arr_2d)\n",
        "\n"
      ],
      "execution_count": 3,
      "outputs": [
        {
          "output_type": "stream",
          "text": [
            "[0 1 2 3 4 5 6 7 8 9]\n"
          ],
          "name": "stdout"
        }
      ]
    },
    {
      "cell_type": "code",
      "metadata": {
        "id": "ACFUoZlI996m",
        "colab_type": "code",
        "colab": {
          "base_uri": "https://localhost:8080/",
          "height": 125
        },
        "outputId": "fd851241-a1b2-4971-f411-56004748b7bc"
      },
      "source": [
        "#51\n",
        "np.random.seed(101) \n",
        "arr = np.random.randint(1,4, size=6)\n",
        "arr\n",
        "(arr[:, None] == np.unique(arr)).view(np.int8)"
      ],
      "execution_count": 5,
      "outputs": [
        {
          "output_type": "execute_result",
          "data": {
            "text/plain": [
              "array([[0, 1, 0],\n",
              "       [0, 0, 1],\n",
              "       [0, 1, 0],\n",
              "       [0, 1, 0],\n",
              "       [0, 1, 0],\n",
              "       [1, 0, 0]], dtype=int8)"
            ]
          },
          "metadata": {
            "tags": []
          },
          "execution_count": 5
        }
      ]
    },
    {
      "cell_type": "code",
      "metadata": {
        "id": "rpvwFLcmn_kF",
        "colab_type": "code",
        "colab": {
          "base_uri": "https://localhost:8080/",
          "height": 35
        },
        "outputId": "70c7415b-e2e9-4fe9-baee-6aab08a241c7"
      },
      "source": [
        "#52 잘모르겠음\n",
        "url = 'https://archive.ics.uci.edu/ml/machine-learning-databases/iris/iris.data'\n",
        "species = np.genfromtxt(url, delimiter=',', dtype='str', usecols=4)\n",
        "np.random.seed(100)\n",
        "species_small = np.sort(np.random.choice(species, size=20))\n",
        "species_small\n",
        "\n",
        "print([i for val in np.unique(species_small) for i, grp in enumerate(species_small[species_small==val])])"
      ],
      "execution_count": 7,
      "outputs": [
        {
          "output_type": "stream",
          "text": [
            "[0, 1, 2, 3, 4, 0, 1, 2, 3, 4, 5, 6, 7, 8, 0, 1, 2, 3, 4, 5]\n"
          ],
          "name": "stdout"
        }
      ]
    },
    {
      "cell_type": "code",
      "metadata": {
        "id": "dbKxJy7MoAIN",
        "colab_type": "code",
        "colab": {
          "base_uri": "https://localhost:8080/",
          "height": 35
        },
        "outputId": "83ca9108-52e5-4fde-8443-2912d53ed652"
      },
      "source": [
        "#53\n",
        "url = 'https://archive.ics.uci.edu/ml/machine-learning-databases/iris/iris.data'\n",
        "species = np.genfromtxt(url, delimiter=',', dtype='str', usecols=4)\n",
        "np.random.seed(100)\n",
        "species_small = np.sort(np.random.choice(species, size=20))\n",
        "species_small\n",
        "output = [np.argwhere(np.unique(species_small) == s).tolist()[0][0] for val in np.unique(species_small) for s in species_small[species_small==val]]\n",
        "print(output)"
      ],
      "execution_count": 9,
      "outputs": [
        {
          "output_type": "stream",
          "text": [
            "[0, 0, 0, 0, 0, 1, 1, 1, 1, 1, 1, 1, 1, 1, 2, 2, 2, 2, 2, 2]\n"
          ],
          "name": "stdout"
        }
      ]
    },
    {
      "cell_type": "code",
      "metadata": {
        "id": "fkQdlsoMoAM5",
        "colab_type": "code",
        "colab": {
          "base_uri": "https://localhost:8080/",
          "height": 53
        },
        "outputId": "6a3bc5b7-0b00-479e-bf50-ce40ec0621fb"
      },
      "source": [
        "#54\n",
        "np.random.seed(10)\n",
        "a = np.random.randint(20, size=10)\n",
        "print(a)\n",
        "print(a.argsort().argsort())"
      ],
      "execution_count": 15,
      "outputs": [
        {
          "output_type": "stream",
          "text": [
            "[ 9  4 15  0 17 16 17  8  9  0]\n",
            "[4 2 6 0 8 7 9 3 5 1]\n"
          ],
          "name": "stdout"
        }
      ]
    },
    {
      "cell_type": "code",
      "metadata": {
        "id": "dtP3qsWPoAFo",
        "colab_type": "code",
        "colab": {
          "base_uri": "https://localhost:8080/",
          "height": 89
        },
        "outputId": "26c4794f-0223-40d3-f895-46e28d5e07e6"
      },
      "source": [
        "#55\n",
        "np.random.seed(10)\n",
        "a = np.random.randint(20, size=[2,5])\n",
        "print(a)\n",
        "\n",
        "\n",
        "print(a.ravel().argsort().argsort().reshape(a.shape)) #ravel 평평하게 배열"
      ],
      "execution_count": 17,
      "outputs": [
        {
          "output_type": "stream",
          "text": [
            "[[ 9  4 15  0 17]\n",
            " [16 17  8  9  0]]\n",
            "[[4 2 6 0 8]\n",
            " [7 9 3 5 1]]\n"
          ],
          "name": "stdout"
        }
      ]
    },
    {
      "cell_type": "code",
      "metadata": {
        "id": "kcCRm4JJoADG",
        "colab_type": "code",
        "colab": {
          "base_uri": "https://localhost:8080/",
          "height": 35
        },
        "outputId": "5e78ece7-6a4c-4400-cf60-46afda2310c9"
      },
      "source": [
        "#56\n",
        "np.random.seed(100)\n",
        "a = np.random.randint(1,10, [5,3])\n",
        "a\n",
        "np.amax(a, axis=1)\n",
        "\n"
      ],
      "execution_count": 18,
      "outputs": [
        {
          "output_type": "execute_result",
          "data": {
            "text/plain": [
              "array([9, 8, 6, 3, 9])"
            ]
          },
          "metadata": {
            "tags": []
          },
          "execution_count": 18
        }
      ]
    },
    {
      "cell_type": "code",
      "metadata": {
        "id": "opRykBhYoAA1",
        "colab_type": "code",
        "colab": {
          "base_uri": "https://localhost:8080/",
          "height": 35
        },
        "outputId": "b5e04122-b8a4-4940-e7e1-beab7de645f4"
      },
      "source": [
        "#57\n",
        "np.apply_along_axis(lambda x: np.min(x)/np.max(x), arr=a, axis=1)"
      ],
      "execution_count": 19,
      "outputs": [
        {
          "output_type": "execute_result",
          "data": {
            "text/plain": [
              "array([0.44444444, 0.125     , 0.5       , 1.        , 0.11111111])"
            ]
          },
          "metadata": {
            "tags": []
          },
          "execution_count": 19
        }
      ]
    },
    {
      "cell_type": "code",
      "metadata": {
        "id": "UF6HYCZvn_-g",
        "colab_type": "code",
        "colab": {
          "base_uri": "https://localhost:8080/",
          "height": 35
        },
        "outputId": "6c8e2b6e-a78d-4cc5-ddd9-d4debc5d3b73"
      },
      "source": [
        "#58\n",
        "np.random.seed(100)\n",
        "a = np.random.randint(0, 5, 10)\n",
        "out = np.full(a.shape[0], True)\n",
        "unique_positions = np.unique(a, return_index=True)[1]\n",
        "out[unique_positions] = False\n",
        "\n",
        "print(out)\n"
      ],
      "execution_count": 20,
      "outputs": [
        {
          "output_type": "stream",
          "text": [
            "[False  True False  True False False  True  True  True  True]\n"
          ],
          "name": "stdout"
        }
      ]
    },
    {
      "cell_type": "code",
      "metadata": {
        "id": "MWLOTWDZn_76",
        "colab_type": "code",
        "colab": {
          "base_uri": "https://localhost:8080/",
          "height": 71
        },
        "outputId": "f0fbafd3-ab3e-4257-d81d-8a42df3217f6"
      },
      "source": [
        "#59\n",
        "iris = np.genfromtxt(url, delimiter=',', dtype='object')\n",
        "names = ('sepallength', 'sepalwidth', 'petallength', 'petalwidth', 'species')\n",
        "numeric_column = iris[:, 1].astype('float')  # sepalwidth\n",
        "grouping_column = iris[:, 4]  # species\n",
        "[[group_val, numeric_column[grouping_column==group_val].mean()] for group_val in np.unique(grouping_column)]\n"
      ],
      "execution_count": 21,
      "outputs": [
        {
          "output_type": "execute_result",
          "data": {
            "text/plain": [
              "[[b'Iris-setosa', 3.418],\n",
              " [b'Iris-versicolor', 2.7700000000000005],\n",
              " [b'Iris-virginica', 2.974]]"
            ]
          },
          "metadata": {
            "tags": []
          },
          "execution_count": 21
        }
      ]
    },
    {
      "cell_type": "code",
      "metadata": {
        "id": "QsjbhtRVn_5M",
        "colab_type": "code",
        "colab": {}
      },
      "source": [
        "#60\n",
        "from io import BytesIO\n",
        "from PIL import Image\n",
        "import PIL, requests\n",
        "\n",
        "URL = 'https://upload.wikimedia.org/wikipedia/commons/8/8b/Denali_Mt_McKinley.jpg'\n",
        "response = requests.get(URL)\n",
        "\n",
        "I = Image.open(BytesIO(response.content))\n",
        "I = I.resize([150,150])\n",
        "arr = np.asarray(I)\n",
        "\n",
        "im = PIL.Image.fromarray(np.uint8(arr))\n",
        "Image.Image.show(im)"
      ],
      "execution_count": 0,
      "outputs": []
    },
    {
      "cell_type": "code",
      "metadata": {
        "id": "K2EdBtjLn_2n",
        "colab_type": "code",
        "colab": {
          "base_uri": "https://localhost:8080/",
          "height": 35
        },
        "outputId": "7aff96c8-cfde-4000-a3d6-550dd7eb43c6"
      },
      "source": [
        "#61\n",
        "a = np.array([1,2,3,np.nan,5,6,7,np.nan])\n",
        "a[~np.isnan(a)]"
      ],
      "execution_count": 28,
      "outputs": [
        {
          "output_type": "execute_result",
          "data": {
            "text/plain": [
              "array([1., 2., 3., 5., 6., 7.])"
            ]
          },
          "metadata": {
            "tags": []
          },
          "execution_count": 28
        }
      ]
    },
    {
      "cell_type": "code",
      "metadata": {
        "id": "vPUPnzOdn_z-",
        "colab_type": "code",
        "colab": {
          "base_uri": "https://localhost:8080/",
          "height": 35
        },
        "outputId": "0eedfd65-b576-4bd9-cecf-b2a22068f8d0"
      },
      "source": [
        "#62\n",
        "a = np.array([1,2,3,4,5])\n",
        "b = np.array([4,5,6,7,8])\n",
        "\n",
        "dist = np.linalg.norm(a-b)\n",
        "dist\n"
      ],
      "execution_count": 29,
      "outputs": [
        {
          "output_type": "execute_result",
          "data": {
            "text/plain": [
              "6.708203932499369"
            ]
          },
          "metadata": {
            "tags": []
          },
          "execution_count": 29
        }
      ]
    },
    {
      "cell_type": "code",
      "metadata": {
        "id": "xXg3KAYbn_hR",
        "colab_type": "code",
        "colab": {
          "base_uri": "https://localhost:8080/",
          "height": 35
        },
        "outputId": "50635cbc-87b5-4485-fa05-5e362f27bab8"
      },
      "source": [
        "#63\n",
        "a = np.array([1, 3, 7, 1, 2, 6, 0, 1])\n",
        "doublediff = np.diff(np.sign(np.diff(a)))\n",
        "peak_locations = np.where(doublediff == -2)[0] + 1\n",
        "peak_locations"
      ],
      "execution_count": 30,
      "outputs": [
        {
          "output_type": "execute_result",
          "data": {
            "text/plain": [
              "array([2, 5])"
            ]
          },
          "metadata": {
            "tags": []
          },
          "execution_count": 30
        }
      ]
    },
    {
      "cell_type": "code",
      "metadata": {
        "id": "mDYI0ts4n_du",
        "colab_type": "code",
        "colab": {
          "base_uri": "https://localhost:8080/",
          "height": 71
        },
        "outputId": "5e28d15d-8679-4007-d8d8-ef2e07712e57"
      },
      "source": [
        "#64\n",
        "a_2d = np.array([[3,3,3],[4,4,4],[5,5,5]])\n",
        "b_1d = np.array([1,2,3])\n",
        "\n",
        "print(a_2d - b_1d[:,None])"
      ],
      "execution_count": 31,
      "outputs": [
        {
          "output_type": "stream",
          "text": [
            "[[2 2 2]\n",
            " [2 2 2]\n",
            " [2 2 2]]\n"
          ],
          "name": "stdout"
        }
      ]
    },
    {
      "cell_type": "code",
      "metadata": {
        "id": "ExVQR_Z_n_bH",
        "colab_type": "code",
        "colab": {
          "base_uri": "https://localhost:8080/",
          "height": 35
        },
        "outputId": "58d6c92c-ee8e-4133-c9cf-4801bb3a25c8"
      },
      "source": [
        "#65\n",
        "x = np.array([1, 2, 1, 1, 3, 4, 3, 1, 1, 2, 1, 1, 2])\n",
        "n = 5\n",
        "\n",
        "np.where(x == 1)[0][n-1]"
      ],
      "execution_count": 32,
      "outputs": [
        {
          "output_type": "execute_result",
          "data": {
            "text/plain": [
              "8"
            ]
          },
          "metadata": {
            "tags": []
          },
          "execution_count": 32
        }
      ]
    },
    {
      "cell_type": "code",
      "metadata": {
        "id": "xxS_6-2Wn_ZF",
        "colab_type": "code",
        "colab": {
          "base_uri": "https://localhost:8080/",
          "height": 35
        },
        "outputId": "8b774c96-9d8d-4737-9125-6d51f98cce95"
      },
      "source": [
        "#66\n",
        "from datetime import datetime\n",
        "dt64 = np.datetime64('2018-02-25 22:10:10')\n",
        "dt64.astype(datetime)"
      ],
      "execution_count": 34,
      "outputs": [
        {
          "output_type": "execute_result",
          "data": {
            "text/plain": [
              "datetime.datetime(2018, 2, 25, 22, 10, 10)"
            ]
          },
          "metadata": {
            "tags": []
          },
          "execution_count": 34
        }
      ]
    },
    {
      "cell_type": "code",
      "metadata": {
        "id": "kE6l8m9tn_W6",
        "colab_type": "code",
        "colab": {
          "base_uri": "https://localhost:8080/",
          "height": 53
        },
        "outputId": "2df9a622-ae7d-4558-ba6f-c7f400cb2935"
      },
      "source": [
        "#67\n",
        "np.random.seed(100)\n",
        "Z = np.random.randint(10, size=10)\n",
        "np.convolve(Z, np.ones(3)/3, mode='valid')"
      ],
      "execution_count": 35,
      "outputs": [
        {
          "output_type": "execute_result",
          "data": {
            "text/plain": [
              "array([6.33333333, 6.        , 5.66666667, 4.66666667, 3.66666667,\n",
              "       2.        , 3.66666667, 3.        ])"
            ]
          },
          "metadata": {
            "tags": []
          },
          "execution_count": 35
        }
      ]
    },
    {
      "cell_type": "code",
      "metadata": {
        "id": "Da6nkJV3n_VH",
        "colab_type": "code",
        "colab": {
          "base_uri": "https://localhost:8080/",
          "height": 35
        },
        "outputId": "869565a6-a18a-4b88-df2e-b8ac42aeea19"
      },
      "source": [
        "#68\n",
        "length = 10\n",
        "start = 5\n",
        "step = 3\n",
        "\n",
        "def seq(start, length, step):\n",
        "    end = start + (step*length)\n",
        "    return np.arange(start, end, step)\n",
        "\n",
        "seq(start, length, step)\n"
      ],
      "execution_count": 37,
      "outputs": [
        {
          "output_type": "execute_result",
          "data": {
            "text/plain": [
              "array([ 5,  8, 11, 14, 17, 20, 23, 26, 29, 32])"
            ]
          },
          "metadata": {
            "tags": []
          },
          "execution_count": 37
        }
      ]
    },
    {
      "cell_type": "code",
      "metadata": {
        "id": "H6k4eCxqn_S7",
        "colab_type": "code",
        "colab": {
          "base_uri": "https://localhost:8080/",
          "height": 179
        },
        "outputId": "db66a82e-9664-4e4b-a766-28d5fef592bf"
      },
      "source": [
        "#69\n",
        "dates = np.arange(np.datetime64('2018-02-01'), np.datetime64('2018-02-25'), 2)\n",
        "print(dates)\n",
        "\n",
        "filled_in = np.array([np.arange(date, (date+d)) for date, d in zip(dates, np.diff(dates))]).reshape(-1)\n",
        "output = np.hstack([filled_in, dates[-1]])\n",
        "output"
      ],
      "execution_count": 39,
      "outputs": [
        {
          "output_type": "stream",
          "text": [
            "['2018-02-01' '2018-02-03' '2018-02-05' '2018-02-07' '2018-02-09'\n",
            " '2018-02-11' '2018-02-13' '2018-02-15' '2018-02-17' '2018-02-19'\n",
            " '2018-02-21' '2018-02-23']\n"
          ],
          "name": "stdout"
        },
        {
          "output_type": "execute_result",
          "data": {
            "text/plain": [
              "array(['2018-02-01', '2018-02-02', '2018-02-03', '2018-02-04',\n",
              "       '2018-02-05', '2018-02-06', '2018-02-07', '2018-02-08',\n",
              "       '2018-02-09', '2018-02-10', '2018-02-11', '2018-02-12',\n",
              "       '2018-02-13', '2018-02-14', '2018-02-15', '2018-02-16',\n",
              "       '2018-02-17', '2018-02-18', '2018-02-19', '2018-02-20',\n",
              "       '2018-02-21', '2018-02-22', '2018-02-23'], dtype='datetime64[D]')"
            ]
          },
          "metadata": {
            "tags": []
          },
          "execution_count": 39
        }
      ]
    },
    {
      "cell_type": "code",
      "metadata": {
        "id": "sl0B54n9n_QZ",
        "colab_type": "code",
        "colab": {
          "base_uri": "https://localhost:8080/",
          "height": 125
        },
        "outputId": "595e3131-a288-495f-fd29-3ae521e017bc"
      },
      "source": [
        "#70\n",
        "def gen_strides(a, stride_len=5, window_len=5):\n",
        "    n_strides = ((a.size-window_len)//stride_len) + 1\n",
        "    return np.array([a[s:(s+window_len)] for s in np.arange(0, n_strides*stride_len, stride_len)])\n",
        "\n",
        "print(gen_strides(np.arange(15), stride_len=2, window_len=4))\n"
      ],
      "execution_count": 41,
      "outputs": [
        {
          "output_type": "stream",
          "text": [
            "[[ 0  1  2  3]\n",
            " [ 2  3  4  5]\n",
            " [ 4  5  6  7]\n",
            " [ 6  7  8  9]\n",
            " [ 8  9 10 11]\n",
            " [10 11 12 13]]\n"
          ],
          "name": "stdout"
        }
      ]
    },
    {
      "cell_type": "code",
      "metadata": {
        "id": "YA7jDlSBn_Lr",
        "colab_type": "code",
        "colab": {}
      },
      "source": [
        ""
      ],
      "execution_count": 0,
      "outputs": []
    }
  ]
}