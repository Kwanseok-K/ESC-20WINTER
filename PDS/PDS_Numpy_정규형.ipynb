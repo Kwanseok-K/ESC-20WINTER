{
  "nbformat": 4,
  "nbformat_minor": 0,
  "metadata": {
    "colab": {
      "name": "PDS_Numpy 정규형.ipynb",
      "provenance": [],
      "collapsed_sections": []
    },
    "kernelspec": {
      "name": "python3",
      "display_name": "Python 3"
    }
  },
  "cells": [
    {
      "cell_type": "code",
      "metadata": {
        "id": "bGbvc8TAwSf3",
        "colab_type": "code",
        "colab": {}
      },
      "source": [
        "import numpy as np"
      ],
      "execution_count": 0,
      "outputs": []
    },
    {
      "cell_type": "code",
      "metadata": {
        "id": "qF9Dca93wWBj",
        "colab_type": "code",
        "outputId": "23932a90-9386-48bf-f36c-f9f327f8fd73",
        "colab": {
          "base_uri": "https://localhost:8080/",
          "height": 35
        }
      },
      "source": [
        "result=0\n",
        "for i in range(100):\n",
        "  result += i\n",
        "print(result)"
      ],
      "execution_count": 0,
      "outputs": [
        {
          "output_type": "stream",
          "text": [
            "4950\n"
          ],
          "name": "stdout"
        }
      ]
    },
    {
      "cell_type": "code",
      "metadata": {
        "id": "NDrwVgAQwjul",
        "colab_type": "code",
        "outputId": "f531df79-083f-4c4a-92f2-822b84f7d625",
        "colab": {
          "base_uri": "https://localhost:8080/",
          "height": 35
        }
      },
      "source": [
        "L=list(range(10))\n",
        "L"
      ],
      "execution_count": 0,
      "outputs": [
        {
          "output_type": "execute_result",
          "data": {
            "text/plain": [
              "[0, 1, 2, 3, 4, 5, 6, 7, 8, 9]"
            ]
          },
          "metadata": {
            "tags": []
          },
          "execution_count": 6
        }
      ]
    },
    {
      "cell_type": "code",
      "metadata": {
        "id": "VNQ73WU4wur3",
        "colab_type": "code",
        "outputId": "d93820e8-4362-4463-90c0-45ede7b90dbc",
        "colab": {
          "base_uri": "https://localhost:8080/",
          "height": 35
        }
      },
      "source": [
        "type(L[0])"
      ],
      "execution_count": 0,
      "outputs": [
        {
          "output_type": "execute_result",
          "data": {
            "text/plain": [
              "int"
            ]
          },
          "metadata": {
            "tags": []
          },
          "execution_count": 7
        }
      ]
    },
    {
      "cell_type": "code",
      "metadata": {
        "id": "cg64_V3dwuzz",
        "colab_type": "code",
        "outputId": "0cd650cf-43ed-40da-90c8-ef5e2bf830ad",
        "colab": {
          "base_uri": "https://localhost:8080/",
          "height": 35
        }
      },
      "source": [
        "L3=[True,\"2\",3.0,4]\n",
        "[type(item) for item in L3]"
      ],
      "execution_count": 0,
      "outputs": [
        {
          "output_type": "execute_result",
          "data": {
            "text/plain": [
              "[bool, str, float, int]"
            ]
          },
          "metadata": {
            "tags": []
          },
          "execution_count": 10
        }
      ]
    },
    {
      "cell_type": "code",
      "metadata": {
        "id": "WLrsO57OxImE",
        "colab_type": "code",
        "outputId": "867cc6ab-0aae-4da7-f296-45538b384e6a",
        "colab": {
          "base_uri": "https://localhost:8080/",
          "height": 35
        }
      },
      "source": [
        "import array \n",
        "L=list(range(10))\n",
        "A=array.array('i',L)\n",
        "A"
      ],
      "execution_count": 0,
      "outputs": [
        {
          "output_type": "execute_result",
          "data": {
            "text/plain": [
              "array('i', [0, 1, 2, 3, 4, 5, 6, 7, 8, 9])"
            ]
          },
          "metadata": {
            "tags": []
          },
          "execution_count": 13
        }
      ]
    },
    {
      "cell_type": "code",
      "metadata": {
        "id": "PxC1JN3ixIrl",
        "colab_type": "code",
        "outputId": "2551330d-7151-4abb-8478-3b5c1623c1c1",
        "colab": {
          "base_uri": "https://localhost:8080/",
          "height": 35
        }
      },
      "source": [
        "np.array([1,4,2,5,3])"
      ],
      "execution_count": 0,
      "outputs": [
        {
          "output_type": "execute_result",
          "data": {
            "text/plain": [
              "array([1, 4, 2, 5, 3])"
            ]
          },
          "metadata": {
            "tags": []
          },
          "execution_count": 14
        }
      ]
    },
    {
      "cell_type": "code",
      "metadata": {
        "id": "r9xrKWDFxItx",
        "colab_type": "code",
        "outputId": "6c8bb96c-b448-40f2-a021-0cbcf3d12656",
        "colab": {
          "base_uri": "https://localhost:8080/",
          "height": 35
        }
      },
      "source": [
        "np.array([1, 2, 3, 4], dtype='float32')"
      ],
      "execution_count": 0,
      "outputs": [
        {
          "output_type": "execute_result",
          "data": {
            "text/plain": [
              "array([1., 2., 3., 4.], dtype=float32)"
            ]
          },
          "metadata": {
            "tags": []
          },
          "execution_count": 15
        }
      ]
    },
    {
      "cell_type": "code",
      "metadata": {
        "id": "dgJBFKZbxIwS",
        "colab_type": "code",
        "outputId": "5f68ac3d-bfda-4e78-8378-a5a95a17d627",
        "colab": {
          "base_uri": "https://localhost:8080/",
          "height": 71
        }
      },
      "source": [
        "np.array([range(i,i+3) for i in [2,4,6]])"
      ],
      "execution_count": 0,
      "outputs": [
        {
          "output_type": "execute_result",
          "data": {
            "text/plain": [
              "array([[2, 3, 4],\n",
              "       [4, 5, 6],\n",
              "       [6, 7, 8]])"
            ]
          },
          "metadata": {
            "tags": []
          },
          "execution_count": 16
        }
      ]
    },
    {
      "cell_type": "code",
      "metadata": {
        "id": "YuI17m8vxIzK",
        "colab_type": "code",
        "outputId": "61d78013-f81b-4b5e-e1a0-78cde3688550",
        "colab": {
          "base_uri": "https://localhost:8080/",
          "height": 35
        }
      },
      "source": [
        "np.zeros(10,dtype=int)"
      ],
      "execution_count": 0,
      "outputs": [
        {
          "output_type": "execute_result",
          "data": {
            "text/plain": [
              "array([0, 0, 0, 0, 0, 0, 0, 0, 0, 0])"
            ]
          },
          "metadata": {
            "tags": []
          },
          "execution_count": 17
        }
      ]
    },
    {
      "cell_type": "code",
      "metadata": {
        "id": "KTgGBj_VxIpU",
        "colab_type": "code",
        "outputId": "a51454d0-4f45-414b-9268-9a8c0250d226",
        "colab": {
          "base_uri": "https://localhost:8080/",
          "height": 71
        }
      },
      "source": [
        "np.ones((3,5),dtype=float)"
      ],
      "execution_count": 0,
      "outputs": [
        {
          "output_type": "execute_result",
          "data": {
            "text/plain": [
              "array([[1., 1., 1., 1., 1.],\n",
              "       [1., 1., 1., 1., 1.],\n",
              "       [1., 1., 1., 1., 1.]])"
            ]
          },
          "metadata": {
            "tags": []
          },
          "execution_count": 18
        }
      ]
    },
    {
      "cell_type": "code",
      "metadata": {
        "id": "ttY4rtOOyFL-",
        "colab_type": "code",
        "outputId": "8f8d720f-e1ec-4049-f759-bdd159fede1e",
        "colab": {
          "base_uri": "https://localhost:8080/",
          "height": 71
        }
      },
      "source": [
        "np.full((3,5),3.14)"
      ],
      "execution_count": 0,
      "outputs": [
        {
          "output_type": "execute_result",
          "data": {
            "text/plain": [
              "array([[3.14, 3.14, 3.14, 3.14, 3.14],\n",
              "       [3.14, 3.14, 3.14, 3.14, 3.14],\n",
              "       [3.14, 3.14, 3.14, 3.14, 3.14]])"
            ]
          },
          "metadata": {
            "tags": []
          },
          "execution_count": 20
        }
      ]
    },
    {
      "cell_type": "code",
      "metadata": {
        "id": "tb5QqkJeyI6F",
        "colab_type": "code",
        "outputId": "5a074e4c-c337-4c24-87cf-1585bc7da198",
        "colab": {
          "base_uri": "https://localhost:8080/",
          "height": 35
        }
      },
      "source": [
        "np.arange(0,20,2)"
      ],
      "execution_count": 0,
      "outputs": [
        {
          "output_type": "execute_result",
          "data": {
            "text/plain": [
              "array([ 0,  2,  4,  6,  8, 10, 12, 14, 16, 18])"
            ]
          },
          "metadata": {
            "tags": []
          },
          "execution_count": 21
        }
      ]
    },
    {
      "cell_type": "code",
      "metadata": {
        "id": "CbP7RwXeyI9t",
        "colab_type": "code",
        "outputId": "47ee8e17-e8c2-4bba-80a8-66d93a18dbd6",
        "colab": {
          "base_uri": "https://localhost:8080/",
          "height": 35
        }
      },
      "source": [
        "np.linspace(0,1,5)"
      ],
      "execution_count": 0,
      "outputs": [
        {
          "output_type": "execute_result",
          "data": {
            "text/plain": [
              "array([0.  , 0.25, 0.5 , 0.75, 1.  ])"
            ]
          },
          "metadata": {
            "tags": []
          },
          "execution_count": 22
        }
      ]
    },
    {
      "cell_type": "code",
      "metadata": {
        "id": "7blpF9sgyJAB",
        "colab_type": "code",
        "outputId": "2b2daa35-8301-48a7-c3de-dcdaccb663ef",
        "colab": {
          "base_uri": "https://localhost:8080/",
          "height": 71
        }
      },
      "source": [
        "np.random.random((3,3))"
      ],
      "execution_count": 0,
      "outputs": [
        {
          "output_type": "execute_result",
          "data": {
            "text/plain": [
              "array([[0.56280675, 0.41551603, 0.30106225],\n",
              "       [0.7853379 , 0.43050133, 0.65951411],\n",
              "       [0.45977927, 0.73607119, 0.25957931]])"
            ]
          },
          "metadata": {
            "tags": []
          },
          "execution_count": 24
        }
      ]
    },
    {
      "cell_type": "code",
      "metadata": {
        "id": "7SGI39mKyWZt",
        "colab_type": "code",
        "outputId": "f7a69580-c5f1-4315-8ee8-03b54d680f7f",
        "colab": {
          "base_uri": "https://localhost:8080/",
          "height": 71
        }
      },
      "source": [
        "np.random.normal(0,1,(3,3))"
      ],
      "execution_count": 0,
      "outputs": [
        {
          "output_type": "execute_result",
          "data": {
            "text/plain": [
              "array([[ 0.05865015,  0.9444168 , -0.66102196],\n",
              "       [-1.81779557,  0.65388098, -0.70234426],\n",
              "       [ 0.65117632, -0.30697721, -0.45427568]])"
            ]
          },
          "metadata": {
            "tags": []
          },
          "execution_count": 25
        }
      ]
    },
    {
      "cell_type": "code",
      "metadata": {
        "id": "Yqrx-ZF4ybmV",
        "colab_type": "code",
        "outputId": "89d424c7-8feb-4e7e-b631-728ee047304a",
        "colab": {
          "base_uri": "https://localhost:8080/",
          "height": 71
        }
      },
      "source": [
        "np.random.randint(0,10,(3,3))"
      ],
      "execution_count": 0,
      "outputs": [
        {
          "output_type": "execute_result",
          "data": {
            "text/plain": [
              "array([[9, 9, 7],\n",
              "       [8, 5, 3],\n",
              "       [8, 9, 7]])"
            ]
          },
          "metadata": {
            "tags": []
          },
          "execution_count": 26
        }
      ]
    },
    {
      "cell_type": "code",
      "metadata": {
        "id": "WWXzrDgYygBr",
        "colab_type": "code",
        "outputId": "fd9f6d56-8cc7-4995-9c40-92ef85dc2b16",
        "colab": {
          "base_uri": "https://localhost:8080/",
          "height": 35
        }
      },
      "source": [
        "np.eye(3)\n",
        "np.empty(3)"
      ],
      "execution_count": 0,
      "outputs": [
        {
          "output_type": "execute_result",
          "data": {
            "text/plain": [
              "array([0.75, 0.75, 0.  ])"
            ]
          },
          "metadata": {
            "tags": []
          },
          "execution_count": 28
        }
      ]
    },
    {
      "cell_type": "code",
      "metadata": {
        "id": "cO_o6OadzzEC",
        "colab_type": "code",
        "outputId": "547b2c82-cd18-41b4-c0f7-3749d3bff60c",
        "colab": {
          "base_uri": "https://localhost:8080/",
          "height": 107
        }
      },
      "source": [
        "x1=np.random.randint(10,size=6)\n",
        "x2=np.random.randint(10,size=(3,4))\n",
        "x3=np.random.randint(10,size=(3,4,5))\n",
        "\n",
        "print(\"x3 ndim: \", x3.ndim)\n",
        "print(\"x3 shape:\", x3.shape)\n",
        "print(\"x3 size: \", x3.size)\n",
        "\n",
        "print(\"itemsize:\", x3.itemsize, \"bytes\") \n",
        "print(\"nbytes:\", x3.nbytes, \"bytes\")"
      ],
      "execution_count": 0,
      "outputs": [
        {
          "output_type": "stream",
          "text": [
            "x3 ndim:  3\n",
            "x3 shape: (3, 4, 5)\n",
            "x3 size:  60\n",
            "itemsize: 8 bytes\n",
            "nbytes: 480 bytes\n"
          ],
          "name": "stdout"
        }
      ]
    },
    {
      "cell_type": "code",
      "metadata": {
        "id": "TtYBP_wL0X6V",
        "colab_type": "code",
        "outputId": "85793a28-10e1-48ae-8e7e-1b15d7a51338",
        "colab": {
          "base_uri": "https://localhost:8080/",
          "height": 125
        }
      },
      "source": [
        "x1\n",
        "x1[-2] #-붙이면 뒤에서부터\n",
        "\n",
        "x2\n",
        "x2[2,-1] #0부터 시작이니까 3행 - 붙어있어서 4열\n",
        "x2[0,0]=12 #1행1열에 12넣음\n",
        "x2"
      ],
      "execution_count": 0,
      "outputs": [
        {
          "output_type": "stream",
          "text": [
            "[[12  4  1  8]\n",
            " [ 3  6  0  8]\n",
            " [ 7  0  2  9]]\n"
          ],
          "name": "stdout"
        },
        {
          "output_type": "execute_result",
          "data": {
            "text/plain": [
              "array([[12,  4,  1,  8],\n",
              "       [ 3,  6,  0,  8],\n",
              "       [ 7,  0,  2,  9]])"
            ]
          },
          "metadata": {
            "tags": []
          },
          "execution_count": 44
        }
      ]
    },
    {
      "cell_type": "code",
      "metadata": {
        "id": "fyLa9OBB1PHC",
        "colab_type": "code",
        "outputId": "18d3a7fb-9a1b-4e63-f643-5112ad7dc10f",
        "colab": {
          "base_uri": "https://localhost:8080/",
          "height": 53
        }
      },
      "source": [
        "x=np.arange(10)\n",
        "x\n",
        "x[:5]\n",
        "x[5:]\n",
        "x[4:7] #4는 포함하고 7은 포함하지 않음 \n",
        "x[::2] #2더한값\n",
        "x[1::2]#1에서 시작해서 2씩 더함\n",
        "x[::-1] #reverse\n",
        "x[5::-2] #reverse인데 5부터 시작해서 2씩 뺌\n",
        "x2\n",
        "x2[:2,:3] #2개의 행 3개의 열 뽑아냄\n",
        "x2[:3,::2] #전체 행을 뽑음, 열은 1열,3열\n",
        "x2[::-1,::-1] #reverse\n",
        "print(x2[:,0]) #1행 전체를 뽑음\n",
        "print(x2[0,:]) #1열 전체를 뽑음\n"
      ],
      "execution_count": 0,
      "outputs": [
        {
          "output_type": "stream",
          "text": [
            "[12  3  7]\n",
            "[12  4  1  8]\n"
          ],
          "name": "stdout"
        }
      ]
    },
    {
      "cell_type": "code",
      "metadata": {
        "id": "bqtX7eIT4byJ",
        "colab_type": "code",
        "outputId": "1d2b96f1-5a15-4489-d8f1-7f947e611862",
        "colab": {
          "base_uri": "https://localhost:8080/",
          "height": 179
        }
      },
      "source": [
        "print(x2)\n",
        "x2_sub=x2[:2,:2]\n",
        "print(x2_sub)\n",
        "x2_sub[0,0]=99\n",
        "print(x2_sub) #x2_sub 뿐만아니라 x2에도 수정된 값이 들어간다.\n",
        "x2_sub_copy=x2[:2,:2].copy() #copy 사용시에는 x2 값 수정되지 않음\n",
        "print(x2_sub_copy)"
      ],
      "execution_count": 0,
      "outputs": [
        {
          "output_type": "stream",
          "text": [
            "[[99  4  1  8]\n",
            " [ 3  6  0  8]\n",
            " [ 7  0  2  9]]\n",
            "[[99  4]\n",
            " [ 3  6]]\n",
            "[[99  4]\n",
            " [ 3  6]]\n",
            "[[99  4]\n",
            " [ 3  6]]\n"
          ],
          "name": "stdout"
        }
      ]
    },
    {
      "cell_type": "code",
      "metadata": {
        "id": "LAx-YvA_5cAq",
        "colab_type": "code",
        "outputId": "06cf63d8-2966-4f66-8866-fed8f91203ca",
        "colab": {
          "base_uri": "https://localhost:8080/",
          "height": 107
        }
      },
      "source": [
        "grid=np.arange(1,10).reshape((3,3))\n",
        "print(grid)\n",
        "x=np.array([1,2,3])\n",
        "y=np.array([3,2,1])\n",
        "np.concatenate([x,y])\n",
        "z=np.array([99,99,99])\n",
        "np.concatenate([x,y,z])\n",
        "grid = np.array([[1,2,3],\n",
        "                [4,5,6]])\n",
        "np.concatenate([grid,grid])\n",
        "np.concatenate([grid,grid],axis=1)"
      ],
      "execution_count": 0,
      "outputs": [
        {
          "output_type": "stream",
          "text": [
            "[[1 2 3]\n",
            " [4 5 6]\n",
            " [7 8 9]]\n"
          ],
          "name": "stdout"
        },
        {
          "output_type": "execute_result",
          "data": {
            "text/plain": [
              "array([[1, 2, 3, 1, 2, 3],\n",
              "       [4, 5, 6, 4, 5, 6]])"
            ]
          },
          "metadata": {
            "tags": []
          },
          "execution_count": 84
        }
      ]
    },
    {
      "cell_type": "code",
      "metadata": {
        "id": "1UMu46Ro908m",
        "colab_type": "code",
        "outputId": "63c019b3-a559-48f4-8312-5dde849d0976",
        "colab": {
          "base_uri": "https://localhost:8080/",
          "height": 35
        }
      },
      "source": [
        "x = np.array([1, 2, 3])\n",
        "grid = np.array([[9, 8, 7],\n",
        "                 [6, 5, 4]])\n",
        "np.vstack([x,grid]) #행추가\n",
        "y=np.array([[99],\n",
        "            [99]])\n",
        "np.hstack([grid,y]) #열추가\n",
        "x = [1, 2, 3, 99, 99, 3, 2, 1]        \n",
        "x1, x2, x3 = np.split(x, [3, 5]) #x[:,:3], x[:,3:5], x[:,5:] 위치의 원소를 가지는 3개의 배열로 분할\n",
        "print(x1, x2, x3)"
      ],
      "execution_count": 0,
      "outputs": [
        {
          "output_type": "stream",
          "text": [
            "[1 2 3] [99 99] [3 2 1]\n"
          ],
          "name": "stdout"
        }
      ]
    },
    {
      "cell_type": "code",
      "metadata": {
        "id": "0k_Jaz6x_1Ut",
        "colab_type": "code",
        "outputId": "fbef2cef-946b-47e3-909d-a7c3ef238a5d",
        "colab": {
          "base_uri": "https://localhost:8080/",
          "height": 89
        }
      },
      "source": [
        "grid = np.arange(16).reshape((4, 4))\n",
        "grid\n",
        "upper, lower = np.vsplit(grid, [2]) #하위 배열로 분류할 때 사용\n",
        "print(upper)\n",
        "print(lower)\n"
      ],
      "execution_count": 0,
      "outputs": [
        {
          "output_type": "stream",
          "text": [
            "[[0 1 2 3]\n",
            " [4 5 6 7]]\n",
            "[[ 8  9 10 11]\n",
            " [12 13 14 15]]\n"
          ],
          "name": "stdout"
        }
      ]
    },
    {
      "cell_type": "code",
      "metadata": {
        "id": "gy6VtFN--KIZ",
        "colab_type": "code",
        "outputId": "b7e8ec0b-5d59-4561-8d99-325d6b07da1b",
        "colab": {
          "base_uri": "https://localhost:8080/",
          "height": 71
        }
      },
      "source": [
        "np.random.seed(0)\n",
        "\n",
        "def compute_reciprocals(values):\n",
        "    output=np.empty(len(values))\n",
        "    for i in range(len(values)):\n",
        "      output[i]=1.0/values[i]\n",
        "    return output\n",
        "\n",
        "values=np.random.randint(1,10,size=5)\n",
        "compute_reciprocals(values)\n",
        "\n",
        "#big_array = np.random.randint(1, 100, size=1000000)       \n",
        "#%timeit compute_reciprocals(big_array)\n",
        "np.arange(5) / np.arange(1, 6) # [0,1,2,3,4] / [1,2,3,4,5]\n",
        "\n",
        "x = np.arange(9).reshape((3, 3))       \n",
        "2 ** x\n",
        "\n"
      ],
      "execution_count": 0,
      "outputs": [
        {
          "output_type": "execute_result",
          "data": {
            "text/plain": [
              "array([[  1,   2,   4],\n",
              "       [  8,  16,  32],\n",
              "       [ 64, 128, 256]])"
            ]
          },
          "metadata": {
            "tags": []
          },
          "execution_count": 23
        }
      ]
    },
    {
      "cell_type": "code",
      "metadata": {
        "id": "r-frQG0D9KAZ",
        "colab_type": "code",
        "outputId": "bdf2d2e5-53ff-4b63-de33-bf69bd3b5f8a",
        "colab": {
          "base_uri": "https://localhost:8080/",
          "height": 53
        }
      },
      "source": [
        " import numpy as np\n",
        " x = np.array([3 - 4j, 4 - 3j, 2 + 0j, 0 + 1j])         #복소수?\n",
        " print(x)\n",
        " np.abs(x)"
      ],
      "execution_count": 0,
      "outputs": [
        {
          "output_type": "stream",
          "text": [
            "[3.-4.j 4.-3.j 2.+0.j 0.+1.j]\n"
          ],
          "name": "stdout"
        },
        {
          "output_type": "execute_result",
          "data": {
            "text/plain": [
              "array([5., 5., 2., 1.])"
            ]
          },
          "metadata": {
            "tags": []
          },
          "execution_count": 4
        }
      ]
    },
    {
      "cell_type": "code",
      "metadata": {
        "id": "lOqmybei_0H4",
        "colab_type": "code",
        "outputId": "302f7c2c-8e13-449f-8ac4-e9e61b3ad69a",
        "colab": {
          "base_uri": "https://localhost:8080/",
          "height": 35
        }
      },
      "source": [
        "theta = np.linspace(0, np.pi, 3)\n",
        "theta "
      ],
      "execution_count": 0,
      "outputs": [
        {
          "output_type": "execute_result",
          "data": {
            "text/plain": [
              "array([0.        , 1.57079633, 3.14159265])"
            ]
          },
          "metadata": {
            "tags": []
          },
          "execution_count": 6
        }
      ]
    },
    {
      "cell_type": "code",
      "metadata": {
        "id": "NrvtfqWQ_0GN",
        "colab_type": "code",
        "outputId": "329b2151-8a40-4d86-c69b-9779995cf70b",
        "colab": {
          "base_uri": "https://localhost:8080/",
          "height": 89
        }
      },
      "source": [
        "print(\"theta      = \", theta)\n",
        "print(\"sin(theta) = \", np.sin(theta)) \n",
        "print(\"cos(theta) = \", np.cos(theta))\n",
        "print(\"tan(theta) = \", np.tan(theta))"
      ],
      "execution_count": 0,
      "outputs": [
        {
          "output_type": "stream",
          "text": [
            "theta      =  [0.         1.57079633 3.14159265]\n",
            "sin(theta) =  [0.0000000e+00 1.0000000e+00 1.2246468e-16]\n",
            "cos(theta) =  [ 1.000000e+00  6.123234e-17 -1.000000e+00]\n",
            "tan(theta) =  [ 0.00000000e+00  1.63312394e+16 -1.22464680e-16]\n"
          ],
          "name": "stdout"
        }
      ]
    },
    {
      "cell_type": "code",
      "metadata": {
        "id": "Dh0Atujj_0EN",
        "colab_type": "code",
        "outputId": "920fa65e-7399-410c-b55c-160ebccb6bac",
        "colab": {
          "base_uri": "https://localhost:8080/",
          "height": 125
        }
      },
      "source": [
        "x = [1, 2, 3]\n",
        "print(\"x     =\", x)        \n",
        "print(\"e^x   =\", np.exp(x))\n",
        "print(\"2^x   =\", np.exp2(x))        \n",
        "print(\"3^x   =\", np.power(3, x))\n",
        "print(\"exp(x) - 1 =\", np.expm1(x))        \n",
        "print(\"log(1 + x) =\", np.log1p(x))\n"
      ],
      "execution_count": 0,
      "outputs": [
        {
          "output_type": "stream",
          "text": [
            "x     = [1, 2, 3]\n",
            "e^x   = [ 2.71828183  7.3890561  20.08553692]\n",
            "2^x   = [2. 4. 8.]\n",
            "3^x   = [ 3  9 27]\n",
            "exp(x) - 1 = [ 1.71828183  6.3890561  19.08553692]\n",
            "log(1 + x) = [0.69314718 1.09861229 1.38629436]\n"
          ],
          "name": "stdout"
        }
      ]
    },
    {
      "cell_type": "code",
      "metadata": {
        "id": "CwxXK9rV_0Cc",
        "colab_type": "code",
        "colab": {}
      },
      "source": [
        "from scipy import special"
      ],
      "execution_count": 0,
      "outputs": []
    },
    {
      "cell_type": "code",
      "metadata": {
        "id": "WpG858dZ_z-v",
        "colab_type": "code",
        "outputId": "b7dbcea8-c5d2-4016-a606-eaf8c9458802",
        "colab": {
          "base_uri": "https://localhost:8080/",
          "height": 71
        }
      },
      "source": [
        " x = [1, 5, 10]        \n",
        " print(\"gamma(x)     =\", special.gamma(x))        \n",
        " print(\"ln|gamma(x)| =\", special.gammaln(x))        \n",
        " print(\"beta(x, 2)   =\", special.beta(x, 2))\n"
      ],
      "execution_count": 0,
      "outputs": [
        {
          "output_type": "stream",
          "text": [
            "gamma(x)     = [1.0000e+00 2.4000e+01 3.6288e+05]\n",
            "ln|gamma(x)| = [ 0.          3.17805383 12.80182748]\n",
            "beta(x, 2)   = [0.5        0.03333333 0.00909091]\n"
          ],
          "name": "stdout"
        }
      ]
    },
    {
      "cell_type": "code",
      "metadata": {
        "id": "VZ9VQ102CQoL",
        "colab_type": "code",
        "outputId": "16b6182e-a1f8-49c6-c387-6139eb4de06c",
        "colab": {
          "base_uri": "https://localhost:8080/",
          "height": 35
        }
      },
      "source": [
        "x=np.arange(5)\n",
        "y=np.empty(5)\n",
        "np.multiply(x,10,out=y)\n",
        "print(y)"
      ],
      "execution_count": 0,
      "outputs": [
        {
          "output_type": "stream",
          "text": [
            "[ 0. 10. 20. 30. 40.]\n"
          ],
          "name": "stdout"
        }
      ]
    },
    {
      "cell_type": "code",
      "metadata": {
        "id": "I5hqc4OYCQnE",
        "colab_type": "code",
        "outputId": "0f4622be-6263-4671-d4e8-8e0122b29433",
        "colab": {
          "base_uri": "https://localhost:8080/",
          "height": 35
        }
      },
      "source": [
        "y=np.zeros(10)\n",
        "np.power(2,x,out=y[::2])\n",
        "print(y)"
      ],
      "execution_count": 0,
      "outputs": [
        {
          "output_type": "stream",
          "text": [
            "[ 1.  0.  2.  0.  4.  0.  8.  0. 16.  0.]\n"
          ],
          "name": "stdout"
        }
      ]
    },
    {
      "cell_type": "code",
      "metadata": {
        "id": "7Wpd6GdBCQlp",
        "colab_type": "code",
        "outputId": "38efce8d-6a8d-4db9-e40b-94d08a7dce50",
        "colab": {
          "base_uri": "https://localhost:8080/",
          "height": 35
        }
      },
      "source": [
        "x = np.arange(1, 6)        \n",
        "np.add.reduce(x)\n",
        "np.multiply.reduce(x)\n",
        "np.add.accumulate(x)"
      ],
      "execution_count": 0,
      "outputs": [
        {
          "output_type": "execute_result",
          "data": {
            "text/plain": [
              "array([ 1,  3,  6, 10, 15])"
            ]
          },
          "metadata": {
            "tags": []
          },
          "execution_count": 19
        }
      ]
    },
    {
      "cell_type": "code",
      "metadata": {
        "id": "7ojsGD7KCQj2",
        "colab_type": "code",
        "outputId": "2703c069-ffd0-441e-aeb3-d37505db86c0",
        "colab": {
          "base_uri": "https://localhost:8080/",
          "height": 107
        }
      },
      "source": [
        " x = np.arange(1, 6)        \n",
        " np.multiply.outer(x, x)\n"
      ],
      "execution_count": 0,
      "outputs": [
        {
          "output_type": "execute_result",
          "data": {
            "text/plain": [
              "array([[ 1,  2,  3,  4,  5],\n",
              "       [ 2,  4,  6,  8, 10],\n",
              "       [ 3,  6,  9, 12, 15],\n",
              "       [ 4,  8, 12, 16, 20],\n",
              "       [ 5, 10, 15, 20, 25]])"
            ]
          },
          "metadata": {
            "tags": []
          },
          "execution_count": 20
        }
      ]
    },
    {
      "cell_type": "code",
      "metadata": {
        "id": "JASkhNmECQhz",
        "colab_type": "code",
        "outputId": "13d83662-e57c-44e2-bd9f-bc595ff81be6",
        "colab": {
          "base_uri": "https://localhost:8080/",
          "height": 35
        }
      },
      "source": [
        "L=np.random.random(100)\n",
        "sum(L)"
      ],
      "execution_count": 0,
      "outputs": [
        {
          "output_type": "execute_result",
          "data": {
            "text/plain": [
              "47.51294159911191"
            ]
          },
          "metadata": {
            "tags": []
          },
          "execution_count": 24
        }
      ]
    },
    {
      "cell_type": "code",
      "metadata": {
        "id": "3NpRH4sxCQde",
        "colab_type": "code",
        "outputId": "8ed6e49f-189c-4ae7-ce94-96c6d79c36f6",
        "colab": {
          "base_uri": "https://localhost:8080/",
          "height": 71
        }
      },
      "source": [
        "M=np.random.random((3,4))\n",
        "print(M)"
      ],
      "execution_count": 0,
      "outputs": [
        {
          "output_type": "stream",
          "text": [
            "[[0.66017354 0.29007761 0.61801543 0.4287687 ]\n",
            " [0.13547406 0.29828233 0.56996491 0.59087276]\n",
            " [0.57432525 0.65320082 0.65210327 0.43141844]]\n"
          ],
          "name": "stdout"
        }
      ]
    },
    {
      "cell_type": "code",
      "metadata": {
        "id": "8qdqpMYQCQbp",
        "colab_type": "code",
        "outputId": "da9299bc-7888-4c49-e48f-16914630aa16",
        "colab": {
          "base_uri": "https://localhost:8080/",
          "height": 35
        }
      },
      "source": [
        "M.sum()"
      ],
      "execution_count": 0,
      "outputs": [
        {
          "output_type": "execute_result",
          "data": {
            "text/plain": [
              "5.902677110918031"
            ]
          },
          "metadata": {
            "tags": []
          },
          "execution_count": 30
        }
      ]
    },
    {
      "cell_type": "code",
      "metadata": {
        "id": "wy0k-3MaCQW9",
        "colab_type": "code",
        "outputId": "9689ab40-f0e5-4e64-f304-d54fe456f4d6",
        "colab": {
          "base_uri": "https://localhost:8080/",
          "height": 35
        }
      },
      "source": [
        "M.min(axis=0) #각 열에서 가장 작은 값 뽑음"
      ],
      "execution_count": 0,
      "outputs": [
        {
          "output_type": "execute_result",
          "data": {
            "text/plain": [
              "array([0.13547406, 0.29007761, 0.56996491, 0.4287687 ])"
            ]
          },
          "metadata": {
            "tags": []
          },
          "execution_count": 31
        }
      ]
    },
    {
      "cell_type": "code",
      "metadata": {
        "id": "h7fAloU2CQUz",
        "colab_type": "code",
        "outputId": "2341420e-ff60-46a7-da17-3acb2c3ec68b",
        "colab": {
          "base_uri": "https://localhost:8080/",
          "height": 35
        }
      },
      "source": [
        "from google.colab import drive\n",
        "drive.mount('/content/drive')"
      ],
      "execution_count": 0,
      "outputs": [
        {
          "output_type": "stream",
          "text": [
            "Mounted at /content/drive\n"
          ],
          "name": "stdout"
        }
      ]
    },
    {
      "cell_type": "code",
      "metadata": {
        "id": "XNMU38_ICQTI",
        "colab_type": "code",
        "colab": {}
      },
      "source": [
        "path='/content/drive/My Drive/Colab Notebooks/president_heights.csv'"
      ],
      "execution_count": 0,
      "outputs": []
    },
    {
      "cell_type": "code",
      "metadata": {
        "id": "JJojUOFDCQQj",
        "colab_type": "code",
        "outputId": "2d331745-988c-47e8-961e-ade8237e9321",
        "colab": {
          "base_uri": "https://localhost:8080/",
          "height": 71
        }
      },
      "source": [
        "import numpy as np\n",
        "import pandas as pd\n",
        "data= pd.read_csv(path,engine='python')\n",
        "heights=np.array(data['height(cm)'])\n",
        "print(heights)"
      ],
      "execution_count": 0,
      "outputs": [
        {
          "output_type": "stream",
          "text": [
            "[189 170 189 163 183 171 185 168 173 183 173 173 175 178 183 193 178 173\n",
            " 174 183 183 168 170 178 182 180 183 178 182 188 175 179 183 193 182 183\n",
            " 177 185 188 188 182 185]\n"
          ],
          "name": "stdout"
        }
      ]
    },
    {
      "cell_type": "code",
      "metadata": {
        "id": "QTkpIvy9xH33",
        "colab_type": "code",
        "outputId": "a1d42b58-f1b9-4f13-ec27-8523f9c3e860",
        "colab": {
          "base_uri": "https://localhost:8080/",
          "height": 89
        }
      },
      "source": [
        "print(\"Mean height:       \", heights.mean())        \n",
        "print(\"Standard deviation:\", heights.std())        \n",
        "print(\"Minimum height:    \", heights.min())        \n",
        "print(\"Maximum height:    \", heights.max())"
      ],
      "execution_count": 0,
      "outputs": [
        {
          "output_type": "stream",
          "text": [
            "Mean height:        179.73809523809524\n",
            "Standard deviation: 6.931843442745892\n",
            "Minimum height:     163\n",
            "Maximum height:     193\n"
          ],
          "name": "stdout"
        }
      ]
    },
    {
      "cell_type": "code",
      "metadata": {
        "id": "16gd44AQxH2U",
        "colab_type": "code",
        "outputId": "13182a77-4e6d-47b7-fba9-a570a89a62e5",
        "colab": {
          "base_uri": "https://localhost:8080/",
          "height": 71
        }
      },
      "source": [
        " print(\"25th percentile:   \", np.percentile(heights, 25))        \n",
        " print(\"Median:            \", np.median(heights))        \n",
        " print(\"75th percentile:   \", np.percentile(heights, 75))"
      ],
      "execution_count": 0,
      "outputs": [
        {
          "output_type": "stream",
          "text": [
            "25th percentile:    174.25\n",
            "Median:             182.0\n",
            "75th percentile:    183.0\n"
          ],
          "name": "stdout"
        }
      ]
    },
    {
      "cell_type": "code",
      "metadata": {
        "id": "xqBKB87GxH0O",
        "colab_type": "code",
        "colab": {}
      },
      "source": [
        "%matplotlib inline        \n",
        "import matplotlib.pyplot as plt        \n",
        "import seaborn; seaborn.set()  # set plot style"
      ],
      "execution_count": 0,
      "outputs": []
    },
    {
      "cell_type": "code",
      "metadata": {
        "id": "dkX46_S9xHxd",
        "colab_type": "code",
        "outputId": "44f07943-6233-4755-fead-7f63d15d710b",
        "colab": {
          "base_uri": "https://localhost:8080/",
          "height": 301
        }
      },
      "source": [
        "plt.hist(heights)        \n",
        "plt.title('Height Distribution of US Presidents')        \n",
        "plt.xlabel('height (cm)')        \n",
        "plt.ylabel('number');\n"
      ],
      "execution_count": 0,
      "outputs": [
        {
          "output_type": "display_data",
          "data": {
            "image/png": "[encoded data removed]",
            "text/plain": [
              "<Figure size 432x288 with 1 Axes>"
            ]
          },
          "metadata": {
            "tags": []
          }
        }
      ]
    },
    {
      "cell_type": "code",
      "metadata": {
        "id": "RawOR7cexHtI",
        "colab_type": "code",
        "outputId": "39e2f52b-746b-49cc-ea9f-4218b2842255",
        "colab": {
          "base_uri": "https://localhost:8080/",
          "height": 71
        }
      },
      "source": [
        "a = np.array([0, 1, 2])       \n",
        "b = np.array([5, 5, 5])       \n",
        "a + b\n",
        "a+5\n",
        "M=np.ones((3,3))\n",
        "M+a\n",
        "\n",
        "a = np.arange(3)      \n",
        "b = np.arange(3)[:, np.newaxis] #축이 열값\n",
        "a+b \n"
      ],
      "execution_count": 0,
      "outputs": [
        {
          "output_type": "execute_result",
          "data": {
            "text/plain": [
              "array([[0, 1, 2],\n",
              "       [1, 2, 3],\n",
              "       [2, 3, 4]])"
            ]
          },
          "metadata": {
            "tags": []
          },
          "execution_count": 38
        }
      ]
    },
    {
      "cell_type": "code",
      "metadata": {
        "id": "dQA8XtJpxl6G",
        "colab_type": "code",
        "outputId": "9aaa82b0-5474-4af0-dbe3-b810dbf1ea57",
        "colab": {
          "base_uri": "https://localhost:8080/",
          "height": 35
        }
      },
      "source": [
        "a[:, np.newaxis].shape"
      ],
      "execution_count": 0,
      "outputs": [
        {
          "output_type": "execute_result",
          "data": {
            "text/plain": [
              "(3, 1)"
            ]
          },
          "metadata": {
            "tags": []
          },
          "execution_count": 39
        }
      ]
    },
    {
      "cell_type": "code",
      "metadata": {
        "id": "uBszKf4_xl2N",
        "colab_type": "code",
        "outputId": "842e6482-bb30-4eef-8490-74773c104c3e",
        "colab": {
          "base_uri": "https://localhost:8080/",
          "height": 71
        }
      },
      "source": [
        " M + a[:, np.newaxis]"
      ],
      "execution_count": 0,
      "outputs": [
        {
          "output_type": "execute_result",
          "data": {
            "text/plain": [
              "array([[1., 1., 1.],\n",
              "       [2., 2., 2.],\n",
              "       [3., 3., 3.]])"
            ]
          },
          "metadata": {
            "tags": []
          },
          "execution_count": 40
        }
      ]
    },
    {
      "cell_type": "code",
      "metadata": {
        "id": "e4X3Yg9Sxl0n",
        "colab_type": "code",
        "outputId": "fe3263e7-bdf9-48c3-914c-2316c5449f06",
        "colab": {
          "base_uri": "https://localhost:8080/",
          "height": 197
        }
      },
      "source": [
        "X = np.random.random((10, 3)) \n",
        "print(X)"
      ],
      "execution_count": 0,
      "outputs": [
        {
          "output_type": "stream",
          "text": [
            "[[0.87912764 0.48831537 0.25064206]\n",
            " [0.13742306 0.24414794 0.64557667]\n",
            " [0.88303456 0.60799964 0.66170472]\n",
            " [0.27133177 0.44658386 0.55575683]\n",
            " [0.08338869 0.16971499 0.15678903]\n",
            " [0.60428419 0.00454143 0.87590803]\n",
            " [0.2341932  0.88845253 0.62856582]\n",
            " [0.41162505 0.92952262 0.58964256]\n",
            " [0.2670408  0.95957195 0.32954101]\n",
            " [0.22302362 0.25109226 0.1398181 ]]\n"
          ],
          "name": "stdout"
        }
      ]
    },
    {
      "cell_type": "code",
      "metadata": {
        "id": "YXEqze0_xlxQ",
        "colab_type": "code",
        "outputId": "f8c215de-05a2-41a9-faef-dade502a1fcb",
        "colab": {
          "base_uri": "https://localhost:8080/",
          "height": 35
        }
      },
      "source": [
        "Xmean=X.mean(0)\n",
        "Xmean\n",
        "X_centered=X-Xmean\n",
        "X_centered.mean(0)"
      ],
      "execution_count": 0,
      "outputs": [
        {
          "output_type": "execute_result",
          "data": {
            "text/plain": [
              "array([ 1.11022302e-17, -1.66533454e-17,  5.55111512e-17])"
            ]
          },
          "metadata": {
            "tags": []
          },
          "execution_count": 48
        }
      ]
    },
    {
      "cell_type": "code",
      "metadata": {
        "id": "CePWVUIQxluk",
        "colab_type": "code",
        "colab": {}
      },
      "source": [
        "x=np.linspace(0,5,50) #1차원 배열을 만들어줌\n",
        "y = np.linspace(0, 5, 50)[:, np.newaxis]\n",
        "z = np.sin(x) ** 10 + np.cos(10 + y * x) * np.cos(x) "
      ],
      "execution_count": 0,
      "outputs": []
    },
    {
      "cell_type": "code",
      "metadata": {
        "id": "OmfvHBxjxlsf",
        "colab_type": "code",
        "outputId": "fffcd31c-1c3a-45e8-b93e-3e4b45e75430",
        "colab": {
          "base_uri": "https://localhost:8080/",
          "height": 272
        }
      },
      "source": [
        " plt.imshow(z, origin='lower', extent=[0, 5, 0, 5], cmap='viridis')\n",
        " plt.colorbar(); "
      ],
      "execution_count": 0,
      "outputs": [
        {
          "output_type": "display_data",
          "data": {
            "image/png": "[encoded data removed]",
            "text/plain": [
              "<Figure size 432x288 with 2 Axes>"
            ]
          },
          "metadata": {
            "tags": []
          }
        }
      ]
    },
    {
      "cell_type": "code",
      "metadata": {
        "id": "tLuIchxMxlrG",
        "colab_type": "code",
        "outputId": "fee5fd4a-c660-47d3-dffa-e2f87d96884a",
        "colab": {
          "base_uri": "https://localhost:8080/",
          "height": 35
        }
      },
      "source": [
        "path='/content/drive/My Drive/Colab Notebooks/Seattle2014.csv'\n",
        "rainfall= pd.read_csv(path)['PRCP'].values\n",
        "inches=rainfall/254\n",
        "inches.shape"
      ],
      "execution_count": 0,
      "outputs": [
        {
          "output_type": "execute_result",
          "data": {
            "text/plain": [
              "(365,)"
            ]
          },
          "metadata": {
            "tags": []
          },
          "execution_count": 55
        }
      ]
    },
    {
      "cell_type": "code",
      "metadata": {
        "id": "iUT_qcZexlpa",
        "colab_type": "code",
        "outputId": "491b0970-792b-4208-b563-0a94bef66b04",
        "colab": {
          "base_uri": "https://localhost:8080/",
          "height": 268
        }
      },
      "source": [
        " import matplotlib.pyplot as plt      \n",
        " import seaborn; seaborn.set() \n",
        " plt.hist(inches,40);"
      ],
      "execution_count": 0,
      "outputs": [
        {
          "output_type": "display_data",
          "data": {
            "image/png": "[encoded data removed]",
            "text/plain": [
              "<Figure size 432x288 with 1 Axes>"
            ]
          },
          "metadata": {
            "tags": []
          }
        }
      ]
    },
    {
      "cell_type": "code",
      "metadata": {
        "id": "mAC_7kZOxllT",
        "colab_type": "code",
        "outputId": "e5438a56-7e37-4a81-cf91-a38b3e8d8a7e",
        "colab": {
          "base_uri": "https://localhost:8080/",
          "height": 35
        }
      },
      "source": [
        "x=np.array([1,2,3,4,5])\n",
        "x<3\n",
        "x>3\n",
        "x!=3 #not equal"
      ],
      "execution_count": 0,
      "outputs": [
        {
          "output_type": "execute_result",
          "data": {
            "text/plain": [
              "array([ True,  True, False,  True,  True])"
            ]
          },
          "metadata": {
            "tags": []
          },
          "execution_count": 67
        }
      ]
    },
    {
      "cell_type": "code",
      "metadata": {
        "id": "Gf4FDxdwxli_",
        "colab_type": "code",
        "outputId": "9d7b9651-c9c0-421c-d2b5-08382252c09f",
        "colab": {
          "base_uri": "https://localhost:8080/",
          "height": 71
        }
      },
      "source": [
        "rng = np.random.RandomState(0)        \n",
        "x = rng.randint(10, size=(3, 4))       \n",
        "x\n",
        "x<6"
      ],
      "execution_count": 0,
      "outputs": [
        {
          "output_type": "execute_result",
          "data": {
            "text/plain": [
              "array([[ True,  True,  True,  True],\n",
              "       [False, False,  True,  True],\n",
              "       [ True,  True, False, False]])"
            ]
          },
          "metadata": {
            "tags": []
          },
          "execution_count": 69
        }
      ]
    },
    {
      "cell_type": "code",
      "metadata": {
        "id": "3pOKBI0L89aR",
        "colab_type": "code",
        "outputId": "6e5b5967-5358-4ab7-a4d5-b9df241e7216",
        "colab": {
          "base_uri": "https://localhost:8080/",
          "height": 35
        }
      },
      "source": [
        "np.count_nonzero(x<6)\n",
        "np.sum(x<6)\n",
        "np.sum(x<6,axis=1) #each row, 몇개인지 확인"
      ],
      "execution_count": 0,
      "outputs": [
        {
          "output_type": "execute_result",
          "data": {
            "text/plain": [
              "array([4, 2, 2])"
            ]
          },
          "metadata": {
            "tags": []
          },
          "execution_count": 73
        }
      ]
    },
    {
      "cell_type": "code",
      "metadata": {
        "id": "i-2lIjlv9Z5U",
        "colab_type": "code",
        "outputId": "c0dba528-a90a-4861-8958-96ed877562bd",
        "colab": {
          "base_uri": "https://localhost:8080/",
          "height": 35
        }
      },
      "source": [
        "np.sum((inches > 0.5) & (inches < 1)) #between 0.5 and 1"
      ],
      "execution_count": 0,
      "outputs": [
        {
          "output_type": "execute_result",
          "data": {
            "text/plain": [
              "29"
            ]
          },
          "metadata": {
            "tags": []
          },
          "execution_count": 74
        }
      ]
    },
    {
      "cell_type": "code",
      "metadata": {
        "id": "Q-C2qBNd9Z1M",
        "colab_type": "code",
        "outputId": "d09725b4-44df-470c-dcbd-f7a8a66710c3",
        "colab": {
          "base_uri": "https://localhost:8080/",
          "height": 35
        }
      },
      "source": [
        "np.sum(~( (inches <= 0.5) | (inches >= 1) ))"
      ],
      "execution_count": 0,
      "outputs": [
        {
          "output_type": "execute_result",
          "data": {
            "text/plain": [
              "29"
            ]
          },
          "metadata": {
            "tags": []
          },
          "execution_count": 75
        }
      ]
    },
    {
      "cell_type": "code",
      "metadata": {
        "id": "_1zlQTxN9Zw8",
        "colab_type": "code",
        "outputId": "0483ea52-60c9-4862-a80d-63014a0d8ce6",
        "colab": {
          "base_uri": "https://localhost:8080/",
          "height": 89
        }
      },
      "source": [
        " print(\"Number days without rain:      \", np.sum(inches == 0))        \n",
        " print(\"Number days with rain:         \", np.sum(inches != 0))        \n",
        " print(\"Days with more than 0.5 inches:\", np.sum(inches > 0.5))        \n",
        " print(\"Rainy days with < 0.1 inches  :\", np.sum((inches > 0) & (inches < 0.2)))"
      ],
      "execution_count": 0,
      "outputs": [
        {
          "output_type": "stream",
          "text": [
            "Number days without rain:       215\n",
            "Number days with rain:          150\n",
            "Days with more than 0.5 inches: 37\n",
            "Rainy days with < 0.1 inches  : 75\n"
          ],
          "name": "stdout"
        }
      ]
    },
    {
      "cell_type": "code",
      "metadata": {
        "id": "xUYSGEby9Zrx",
        "colab_type": "code",
        "outputId": "4f73bdbc-9c0f-42c2-9c12-66a207753072",
        "colab": {
          "base_uri": "https://localhost:8080/",
          "height": 35
        }
      },
      "source": [
        "x[x < 5] #해당되는 값을 뽑아냄"
      ],
      "execution_count": 0,
      "outputs": [
        {
          "output_type": "execute_result",
          "data": {
            "text/plain": [
              "array([0, 3, 3, 3, 2, 4])"
            ]
          },
          "metadata": {
            "tags": []
          },
          "execution_count": 77
        }
      ]
    },
    {
      "cell_type": "code",
      "metadata": {
        "id": "THYk-hQi9Zox",
        "colab_type": "code",
        "outputId": "9f18c39a-8247-4c8d-91ec-2bd956a45a9f",
        "colab": {
          "base_uri": "https://localhost:8080/",
          "height": 89
        }
      },
      "source": [
        "# construct a mask of all rainy days\n",
        "rainy = (inches > 0)\n",
        "# construct a mask of all summer days\n",
        "summer = (np.arange(365) - 172 < 90) & (np.arange(365) - 172 > 0)\n",
        "print(\"Median precip on rainy days in 2014 (inches):   \",      np.median(inches[rainy])) \n",
        "print(\"Median precip on summer days in 2014 (inches):  \",      np.median(inches[summer])) \n",
        "print(\"Maximum precip on summer days in 2014 (inches): \",      np.max(inches[summer])) \n",
        "print(\"Median precip on non-summer rainy days (inches):\",      np.median(inches[rainy & ~summer]))\n"
      ],
      "execution_count": 0,
      "outputs": [
        {
          "output_type": "stream",
          "text": [
            "Median precip on rainy days in 2014 (inches):    0.19488188976377951\n",
            "Median precip on summer days in 2014 (inches):   0.0\n",
            "Maximum precip on summer days in 2014 (inches):  0.8503937007874016\n",
            "Median precip on non-summer rainy days (inches): 0.20078740157480315\n"
          ],
          "name": "stdout"
        }
      ]
    },
    {
      "cell_type": "code",
      "metadata": {
        "id": "pGHK_C2Z-lGR",
        "colab_type": "code",
        "colab": {
          "base_uri": "https://localhost:8080/",
          "height": 35
        },
        "outputId": "21255d4e-4b92-4e3a-a15a-7755c38a72d1"
      },
      "source": [
        "import numpy as np\n",
        "rand = np.random.RandomState(42)\n",
        "\n",
        "x = rand.randint(100,size=10)\n",
        "print(x)"
      ],
      "execution_count": 1,
      "outputs": [
        {
          "output_type": "stream",
          "text": [
            "[51 92 14 71 60 20 82 86 74 74]\n"
          ],
          "name": "stdout"
        }
      ]
    },
    {
      "cell_type": "code",
      "metadata": {
        "id": "NszdESNXRM7T",
        "colab_type": "code",
        "colab": {
          "base_uri": "https://localhost:8080/",
          "height": 53
        },
        "outputId": "1bb1994b-28e5-4fa7-a528-f2f22d5f0a60"
      },
      "source": [
        " ind = np.array([[3, 7],                       \n",
        "                 [4, 5]])       \n",
        " x[ind]"
      ],
      "execution_count": 3,
      "outputs": [
        {
          "output_type": "execute_result",
          "data": {
            "text/plain": [
              "array([[71, 86],\n",
              "       [60, 20]])"
            ]
          },
          "metadata": {
            "tags": []
          },
          "execution_count": 3
        }
      ]
    },
    {
      "cell_type": "code",
      "metadata": {
        "id": "gV0vI8toRM5S",
        "colab_type": "code",
        "colab": {
          "base_uri": "https://localhost:8080/",
          "height": 71
        },
        "outputId": "15fd2210-fc73-408b-b4ab-ca8f7337cc3b"
      },
      "source": [
        "X = np.arange(12).reshape((3, 4))       \n",
        "X"
      ],
      "execution_count": 4,
      "outputs": [
        {
          "output_type": "execute_result",
          "data": {
            "text/plain": [
              "array([[ 0,  1,  2,  3],\n",
              "       [ 4,  5,  6,  7],\n",
              "       [ 8,  9, 10, 11]])"
            ]
          },
          "metadata": {
            "tags": []
          },
          "execution_count": 4
        }
      ]
    },
    {
      "cell_type": "code",
      "metadata": {
        "id": "ypkacBxxRM24",
        "colab_type": "code",
        "colab": {
          "base_uri": "https://localhost:8080/",
          "height": 35
        },
        "outputId": "fe9c5c80-fc3b-4723-db8c-928a40328737"
      },
      "source": [
        " row = np.array([0, 1, 2])       \n",
        " col = np.array([2, 1, 3])       \n",
        " X[row, col]"
      ],
      "execution_count": 5,
      "outputs": [
        {
          "output_type": "execute_result",
          "data": {
            "text/plain": [
              "array([ 2,  5, 11])"
            ]
          },
          "metadata": {
            "tags": []
          },
          "execution_count": 5
        }
      ]
    },
    {
      "cell_type": "code",
      "metadata": {
        "id": "k4jR4ZsSRM1G",
        "colab_type": "code",
        "colab": {
          "base_uri": "https://localhost:8080/",
          "height": 71
        },
        "outputId": "0d5c53ef-f2a9-49aa-e3c4-238b092b84c4"
      },
      "source": [
        "# if we combine a column vector and a row vector within the indices, we get a two-dimensional result\n",
        "X[row[:, np.newaxis], col]\n"
      ],
      "execution_count": 6,
      "outputs": [
        {
          "output_type": "execute_result",
          "data": {
            "text/plain": [
              "array([[ 2,  1,  3],\n",
              "       [ 6,  5,  7],\n",
              "       [10,  9, 11]])"
            ]
          },
          "metadata": {
            "tags": []
          },
          "execution_count": 6
        }
      ]
    },
    {
      "cell_type": "code",
      "metadata": {
        "id": "s15JxaFORMy5",
        "colab_type": "code",
        "colab": {
          "base_uri": "https://localhost:8080/",
          "height": 35
        },
        "outputId": "924325b9-15bd-48bb-9946-caddccd4ea2d"
      },
      "source": [
        " X[2, [2, 0, 1]]"
      ],
      "execution_count": 7,
      "outputs": [
        {
          "output_type": "execute_result",
          "data": {
            "text/plain": [
              "array([10,  8,  9])"
            ]
          },
          "metadata": {
            "tags": []
          },
          "execution_count": 7
        }
      ]
    },
    {
      "cell_type": "code",
      "metadata": {
        "id": "3IqfPTJfRMw5",
        "colab_type": "code",
        "colab": {
          "base_uri": "https://localhost:8080/",
          "height": 53
        },
        "outputId": "4406dbe7-abcd-4267-f16b-f88274390015"
      },
      "source": [
        "X[1:, [2, 0, 1]]"
      ],
      "execution_count": 8,
      "outputs": [
        {
          "output_type": "execute_result",
          "data": {
            "text/plain": [
              "array([[ 6,  4,  5],\n",
              "       [10,  8,  9]])"
            ]
          },
          "metadata": {
            "tags": []
          },
          "execution_count": 8
        }
      ]
    },
    {
      "cell_type": "code",
      "metadata": {
        "id": "QENoW_chRMvB",
        "colab_type": "code",
        "colab": {
          "base_uri": "https://localhost:8080/",
          "height": 71
        },
        "outputId": "17c44a14-5a1b-4beb-82fd-70cc8b2c2ca4"
      },
      "source": [
        " mask = np.array([1, 0, 1, 0], dtype=bool)        \n",
        " X[row[:, np.newaxis], mask]"
      ],
      "execution_count": 9,
      "outputs": [
        {
          "output_type": "execute_result",
          "data": {
            "text/plain": [
              "array([[ 0,  2],\n",
              "       [ 4,  6],\n",
              "       [ 8, 10]])"
            ]
          },
          "metadata": {
            "tags": []
          },
          "execution_count": 9
        }
      ]
    },
    {
      "cell_type": "code",
      "metadata": {
        "id": "PEmBYRfGRMsz",
        "colab_type": "code",
        "colab": {
          "base_uri": "https://localhost:8080/",
          "height": 35
        },
        "outputId": "613544fd-7184-4c73-a9bd-95f7b87fe931"
      },
      "source": [
        "mean = [0, 0]        \n",
        "cov = [[1, 2],               \n",
        "       [2, 5]]        \n",
        "X = rand.multivariate_normal(mean, cov, 100)        \n",
        "X.shape\n"
      ],
      "execution_count": 10,
      "outputs": [
        {
          "output_type": "execute_result",
          "data": {
            "text/plain": [
              "(100, 2)"
            ]
          },
          "metadata": {
            "tags": []
          },
          "execution_count": 10
        }
      ]
    },
    {
      "cell_type": "code",
      "metadata": {
        "id": "278qw2UsRMq9",
        "colab_type": "code",
        "colab": {
          "base_uri": "https://localhost:8080/",
          "height": 268
        },
        "outputId": "2f42026b-70ac-4337-8d4f-68027a511813"
      },
      "source": [
        "%matplotlib inline        \n",
        "import matplotlib.pyplot as plt        \n",
        "import seaborn; seaborn.set()\n",
        "plt.scatter(X[:, 0], X[:, 1]);"
      ],
      "execution_count": 13,
      "outputs": [
        {
          "output_type": "display_data",
          "data": {
            "image/png": "[encoded data removed]",
            "text/plain": [
              "<Figure size 432x288 with 1 Axes>"
            ]
          },
          "metadata": {
            "tags": []
          }
        }
      ]
    },
    {
      "cell_type": "code",
      "metadata": {
        "id": "XYv4BLEARMpA",
        "colab_type": "code",
        "colab": {
          "base_uri": "https://localhost:8080/",
          "height": 268
        },
        "outputId": "b5c4df6e-e143-45d5-e3fa-8451fd2d12db"
      },
      "source": [
        "indices = np.random.choice(X.shape[0], 20, replace=False)        \n",
        "indices\n",
        "selection = X[indices]  \n",
        "selection.shape\n",
        "plt.scatter(X[:, 0], X[:, 1], alpha=0.3)        \n",
        "plt.scatter(selection[:, 0], selection[:, 1],                    \n",
        "            facecolor='none', s=200);\n"
      ],
      "execution_count": 17,
      "outputs": [
        {
          "output_type": "display_data",
          "data": {
            "image/png": "[encoded data removed]",
            "text/plain": [
              "<Figure size 432x288 with 1 Axes>"
            ]
          },
          "metadata": {
            "tags": []
          }
        }
      ]
    },
    {
      "cell_type": "code",
      "metadata": {
        "id": "5JMm1m4iRMkc",
        "colab_type": "code",
        "colab": {
          "base_uri": "https://localhost:8080/",
          "height": 35
        },
        "outputId": "e1082fe8-4fb3-495d-f308-c0d3347538da"
      },
      "source": [
        "x = np.zeros(10)        \n",
        "x[[0, 0]] = [4, 6]        \n",
        "print(x)\n"
      ],
      "execution_count": 18,
      "outputs": [
        {
          "output_type": "stream",
          "text": [
            "[6. 0. 0. 0. 0. 0. 0. 0. 0. 0.]\n"
          ],
          "name": "stdout"
        }
      ]
    },
    {
      "cell_type": "code",
      "metadata": {
        "id": "97fomkBMRMhx",
        "colab_type": "code",
        "colab": {
          "base_uri": "https://localhost:8080/",
          "height": 324
        },
        "outputId": "a59d7656-2e23-489f-93d1-4bdd2b6dd865"
      },
      "source": [
        "np.random.seed(42)\n",
        "x=np.random.randn(100)\n",
        "bins=np.linspace(-5,5,20)\n",
        "counts=np.zeros_like(bins)\n",
        "i=np.searchsorted(bins,x)\n",
        "np.add.at(counts,i,1)\n",
        "plt.plot(bins,counts,linestyle='steps');"
      ],
      "execution_count": 25,
      "outputs": [
        {
          "output_type": "stream",
          "text": [
            "/usr/local/lib/python3.6/dist-packages/ipykernel_launcher.py:7: MatplotlibDeprecationWarning: Passing the drawstyle with the linestyle as a single string is deprecated since Matplotlib 3.1 and support will be removed in 3.3; please pass the drawstyle separately using the drawstyle keyword argument to Line2D or set_drawstyle() method (or ds/set_ds()).\n",
            "  import sys\n"
          ],
          "name": "stderr"
        },
        {
          "output_type": "display_data",
          "data": {
            "image/png": "[encoded data removed]",
            "text/plain": [
              "<Figure size 432x288 with 1 Axes>"
            ]
          },
          "metadata": {
            "tags": []
          }
        }
      ]
    },
    {
      "cell_type": "code",
      "metadata": {
        "id": "Jn1nx43FRMfK",
        "colab_type": "code",
        "colab": {
          "base_uri": "https://localhost:8080/",
          "height": 107
        },
        "outputId": "c9412461-3d2e-4f7b-d272-885db6bee377"
      },
      "source": [
        "print(\"NumPy routine:\")        \n",
        "%timeit counts, edges = np.histogram(x, bins)\n",
        "print(\"Custom routine:\")        \n",
        "%timeit np.add.at(counts, np.searchsorted(bins, x), 1)"
      ],
      "execution_count": 26,
      "outputs": [
        {
          "output_type": "stream",
          "text": [
            "NumPy routine:\n",
            "The slowest run took 7.96 times longer than the fastest. This could mean that an intermediate result is being cached.\n",
            "10000 loops, best of 3: 26.8 µs per loop\n",
            "Custom routine:\n",
            "100000 loops, best of 3: 15.3 µs per loop\n"
          ],
          "name": "stdout"
        }
      ]
    },
    {
      "cell_type": "code",
      "metadata": {
        "id": "-vaFIaRJRMcr",
        "colab_type": "code",
        "colab": {
          "base_uri": "https://localhost:8080/",
          "height": 35
        },
        "outputId": "af707842-43b6-4977-b924-9ecb69feda6b"
      },
      "source": [
        "def selection_sort(x):\n",
        "    for i in range(len(x)):\n",
        "        swap = i + np.argmin(x[i:])\n",
        "        (x[i],x[swap]) = (x[swap],x[i])\n",
        "    return x \n",
        "x = np.array([2,1,4,3,5])\n",
        "selection_sort(x)"
      ],
      "execution_count": 27,
      "outputs": [
        {
          "output_type": "execute_result",
          "data": {
            "text/plain": [
              "array([1, 2, 3, 4, 5])"
            ]
          },
          "metadata": {
            "tags": []
          },
          "execution_count": 27
        }
      ]
    },
    {
      "cell_type": "code",
      "metadata": {
        "id": "epUFW8swRMYk",
        "colab_type": "code",
        "colab": {
          "base_uri": "https://localhost:8080/",
          "height": 35
        },
        "outputId": "6ac77627-208e-4489-a4bd-30add857d5f2"
      },
      "source": [
        "def bogosort(x):           \n",
        "    while np.any(x[:-1] > x[1:]):               \n",
        "        np.random.shuffle(x)           \n",
        "    return x\n",
        "x = np.array([2, 1, 4, 3, 5])       \n",
        "bogosort(x)"
      ],
      "execution_count": 28,
      "outputs": [
        {
          "output_type": "execute_result",
          "data": {
            "text/plain": [
              "array([1, 2, 3, 4, 5])"
            ]
          },
          "metadata": {
            "tags": []
          },
          "execution_count": 28
        }
      ]
    },
    {
      "cell_type": "code",
      "metadata": {
        "id": "fhA-ltn8UVz7",
        "colab_type": "code",
        "colab": {
          "base_uri": "https://localhost:8080/",
          "height": 35
        },
        "outputId": "bdb81c0b-564e-4772-8c63-ef68eb3ca10f"
      },
      "source": [
        "x = np.array([2, 1, 4, 3, 5])       \n",
        "np.sort(x)"
      ],
      "execution_count": 29,
      "outputs": [
        {
          "output_type": "execute_result",
          "data": {
            "text/plain": [
              "array([1, 2, 3, 4, 5])"
            ]
          },
          "metadata": {
            "tags": []
          },
          "execution_count": 29
        }
      ]
    },
    {
      "cell_type": "code",
      "metadata": {
        "id": "UizALYaaUVxg",
        "colab_type": "code",
        "colab": {
          "base_uri": "https://localhost:8080/",
          "height": 89
        },
        "outputId": "c93ee747-7d48-44a2-bd97-57b7ed9ee127"
      },
      "source": [
        "rand = np.random.RandomState(42)       \n",
        "X = rand.randint(0, 10, (4, 6))       \n",
        "print(X)"
      ],
      "execution_count": 30,
      "outputs": [
        {
          "output_type": "stream",
          "text": [
            "[[6 3 7 4 6 9]\n",
            " [2 6 7 4 3 7]\n",
            " [7 2 5 4 1 7]\n",
            " [5 1 4 0 9 5]]\n"
          ],
          "name": "stdout"
        }
      ]
    },
    {
      "cell_type": "code",
      "metadata": {
        "id": "aVRew9Z9UVvT",
        "colab_type": "code",
        "colab": {
          "base_uri": "https://localhost:8080/",
          "height": 89
        },
        "outputId": "e5e445fd-4624-43a1-e195-520542f2f9cf"
      },
      "source": [
        "np.sort(X, axis=0)"
      ],
      "execution_count": 31,
      "outputs": [
        {
          "output_type": "execute_result",
          "data": {
            "text/plain": [
              "array([[2, 1, 4, 0, 1, 5],\n",
              "       [5, 2, 5, 4, 3, 7],\n",
              "       [6, 3, 7, 4, 6, 7],\n",
              "       [7, 6, 7, 4, 9, 9]])"
            ]
          },
          "metadata": {
            "tags": []
          },
          "execution_count": 31
        }
      ]
    },
    {
      "cell_type": "code",
      "metadata": {
        "id": "hPF_a3-JUVtU",
        "colab_type": "code",
        "colab": {
          "base_uri": "https://localhost:8080/",
          "height": 35
        },
        "outputId": "565aa516-299b-48f1-c6d7-4db022fc8583"
      },
      "source": [
        "x = np.array([7, 2, 3, 1, 6, 5, 4])        \n",
        "np.partition(x, 3)"
      ],
      "execution_count": 32,
      "outputs": [
        {
          "output_type": "execute_result",
          "data": {
            "text/plain": [
              "array([2, 1, 3, 4, 6, 5, 7])"
            ]
          },
          "metadata": {
            "tags": []
          },
          "execution_count": 32
        }
      ]
    },
    {
      "cell_type": "code",
      "metadata": {
        "id": "oYaEtU2AUVoA",
        "colab_type": "code",
        "colab": {
          "base_uri": "https://localhost:8080/",
          "height": 89
        },
        "outputId": "d45e75f6-b6c6-4cb8-b211-f18972d23dfe"
      },
      "source": [
        "np.partition(X, 2, axis=1)"
      ],
      "execution_count": 33,
      "outputs": [
        {
          "output_type": "execute_result",
          "data": {
            "text/plain": [
              "array([[3, 4, 6, 7, 6, 9],\n",
              "       [2, 3, 4, 7, 6, 7],\n",
              "       [1, 2, 4, 5, 7, 7],\n",
              "       [0, 1, 4, 5, 9, 5]])"
            ]
          },
          "metadata": {
            "tags": []
          },
          "execution_count": 33
        }
      ]
    },
    {
      "cell_type": "code",
      "metadata": {
        "id": "FcLiLRlpVyC8",
        "colab_type": "code",
        "colab": {
          "base_uri": "https://localhost:8080/",
          "height": 268
        },
        "outputId": "df055185-3fd9-4415-833e-68db77717616"
      },
      "source": [
        "X = rand.rand(10, 2) \n",
        "%matplotlib inline        \n",
        "import matplotlib.pyplot as plt        \n",
        "import seaborn; seaborn.set()  \n",
        "plt.scatter(X[:, 0], X[:, 1], s=100);\n"
      ],
      "execution_count": 34,
      "outputs": [
        {
          "output_type": "display_data",
          "data": {
            "image/png": "[encoded data removed]",
            "text/plain": [
              "<Figure size 432x288 with 1 Axes>"
            ]
          },
          "metadata": {
            "tags": []
          }
        }
      ]
    },
    {
      "cell_type": "code",
      "metadata": {
        "id": "NAflP4aSVyAt",
        "colab_type": "code",
        "colab": {}
      },
      "source": [
        "dist_sq = np.sum((X[:,np.newaxis,:] - X[np.newaxis,:,:]) ** 2, axis=-1) "
      ],
      "execution_count": 0,
      "outputs": []
    },
    {
      "cell_type": "code",
      "metadata": {
        "id": "pxNPIXVuVx9z",
        "colab_type": "code",
        "colab": {
          "base_uri": "https://localhost:8080/",
          "height": 35
        },
        "outputId": "2f654e7a-878f-42f4-8f9e-16baa45df62a"
      },
      "source": [
        "differences = X[:, np.newaxis, :] - X[np.newaxis, :, :]        \n",
        "differences.shape"
      ],
      "execution_count": 36,
      "outputs": [
        {
          "output_type": "execute_result",
          "data": {
            "text/plain": [
              "(10, 10, 2)"
            ]
          },
          "metadata": {
            "tags": []
          },
          "execution_count": 36
        }
      ]
    },
    {
      "cell_type": "code",
      "metadata": {
        "id": "MhgyZZZNVx67",
        "colab_type": "code",
        "colab": {
          "base_uri": "https://localhost:8080/",
          "height": 35
        },
        "outputId": "f3b15bc3-e2e5-4884-8d16-9e416f7da5bb"
      },
      "source": [
        "sq_differences = differences ** 2        \n",
        "sq_differences.shape"
      ],
      "execution_count": 37,
      "outputs": [
        {
          "output_type": "execute_result",
          "data": {
            "text/plain": [
              "(10, 10, 2)"
            ]
          },
          "metadata": {
            "tags": []
          },
          "execution_count": 37
        }
      ]
    },
    {
      "cell_type": "code",
      "metadata": {
        "id": "OetoVvDfVx4J",
        "colab_type": "code",
        "colab": {
          "base_uri": "https://localhost:8080/",
          "height": 377
        },
        "outputId": "3e5dfa61-1ca2-4b56-81be-d0fd19fa8539"
      },
      "source": [
        "dist_sq = sq_differences.sum(-1)        \n",
        "dist_sq.shape\n",
        "print(dist_sq)"
      ],
      "execution_count": 40,
      "outputs": [
        {
          "output_type": "stream",
          "text": [
            "[[0.         0.40999909 0.90538547 0.05550496 0.50287983 1.14976739\n",
            "  1.15936537 0.19672877 1.16632222 0.14319923]\n",
            " [0.40999909 0.         0.55794316 0.18090431 0.00906581 0.21465798\n",
            "  0.19098635 0.15497331 0.20095384 0.16679585]\n",
            " [0.90538547 0.55794316 0.         0.81458763 0.67649219 1.13419594\n",
            "  0.74752753 1.08562368 0.9704683  1.03211241]\n",
            " [0.05550496 0.18090431 0.81458763 0.         0.23387834 0.70468321\n",
            "  0.74108843 0.05338715 0.72671958 0.0288717 ]\n",
            " [0.50287983 0.00906581 0.67649219 0.23387834 0.         0.14021843\n",
            "  0.1470605  0.16449241 0.13755476 0.18859392]\n",
            " [1.14976739 0.21465798 1.13419594 0.70468321 0.14021843 0.\n",
            "  0.06080186 0.48946337 0.01100053 0.56059965]\n",
            " [1.15936537 0.19098635 0.74752753 0.74108843 0.1470605  0.06080186\n",
            "  0.         0.61258786 0.02046045 0.66652228]\n",
            " [0.19672877 0.15497331 1.08562368 0.05338715 0.16449241 0.48946337\n",
            "  0.61258786 0.         0.54429694 0.00424306]\n",
            " [1.16632222 0.20095384 0.9704683  0.72671958 0.13755476 0.01100053\n",
            "  0.02046045 0.54429694 0.         0.60957115]\n",
            " [0.14319923 0.16679585 1.03211241 0.0288717  0.18859392 0.56059965\n",
            "  0.66652228 0.00424306 0.60957115 0.        ]]\n"
          ],
          "name": "stdout"
        }
      ]
    },
    {
      "cell_type": "code",
      "metadata": {
        "id": "GSClxnpcVx16",
        "colab_type": "code",
        "colab": {
          "base_uri": "https://localhost:8080/",
          "height": 197
        },
        "outputId": "b14292b7-86a7-4815-b178-a8fd9c410078"
      },
      "source": [
        "nearest = np.argsort(dist_sq, axis=1)        \n",
        "print(nearest)"
      ],
      "execution_count": 39,
      "outputs": [
        {
          "output_type": "stream",
          "text": [
            "[[0 3 9 7 1 4 2 5 6 8]\n",
            " [1 4 7 9 3 6 8 5 0 2]\n",
            " [2 1 4 6 3 0 8 9 7 5]\n",
            " [3 9 7 0 1 4 5 8 6 2]\n",
            " [4 1 8 5 6 7 9 3 0 2]\n",
            " [5 8 6 4 1 7 9 3 2 0]\n",
            " [6 8 5 4 1 7 9 3 2 0]\n",
            " [7 9 3 1 4 0 5 8 6 2]\n",
            " [8 5 6 4 1 7 9 3 2 0]\n",
            " [9 7 3 0 1 4 5 8 6 2]]\n"
          ],
          "name": "stdout"
        }
      ]
    },
    {
      "cell_type": "code",
      "metadata": {
        "id": "Ffo5-2abVxyM",
        "colab_type": "code",
        "colab": {}
      },
      "source": [
        "K = 2        \n",
        "nearest_partition = np.argpartition(dist_sq, K + 1, axis=1)"
      ],
      "execution_count": 0,
      "outputs": []
    },
    {
      "cell_type": "code",
      "metadata": {
        "id": "FNJxzzTDVxue",
        "colab_type": "code",
        "colab": {
          "base_uri": "https://localhost:8080/",
          "height": 268
        },
        "outputId": "28294295-681e-4568-c811-a5fd93cc8662"
      },
      "source": [
        "plt.scatter(X[:, 0], X[:, 1], s=100)\n",
        "                \n",
        "K = 2\n",
        "for i in range(X.shape[0]):            \n",
        "    for j in nearest_partition[i, :K+1]:                \n",
        "        # plot a line from X[i] to X[j]                \n",
        "        # use some zip magic to make it happen:                \n",
        "        plt.plot(*zip(X[j], X[i]), color='black')"
      ],
      "execution_count": 42,
      "outputs": [
        {
          "output_type": "display_data",
          "data": {
            "image/png": "[encoded data removed]",
            "text/plain": [
              "<Figure size 432x288 with 1 Axes>"
            ]
          },
          "metadata": {
            "tags": []
          }
        }
      ]
    },
    {
      "cell_type": "code",
      "metadata": {
        "id": "8HTT_R-6VxsP",
        "colab_type": "code",
        "colab": {}
      },
      "source": [
        "name = ['Alice', 'Bob', 'Cathy', 'Doug']       \n",
        "age = [25, 45, 37, 19]       \n",
        "weight = [55.0, 85.5, 68.0, 61.5]\n",
        "x = np.zeros(4, dtype=int)"
      ],
      "execution_count": 0,
      "outputs": []
    },
    {
      "cell_type": "code",
      "metadata": {
        "id": "Nmo76w5sVxm6",
        "colab_type": "code",
        "colab": {
          "base_uri": "https://localhost:8080/",
          "height": 35
        },
        "outputId": "2294fc50-7740-44b8-dc5b-1a806f13e0b1"
      },
      "source": [
        "data = np.zeros(4, dtype={'names':('name', 'age', 'weight'),                                 \n",
        "                          'formats':('U10', 'i4', 'f8')})       \n",
        "print(data.dtype)"
      ],
      "execution_count": 44,
      "outputs": [
        {
          "output_type": "stream",
          "text": [
            "[('name', '<U10'), ('age', '<i4'), ('weight', '<f8')]\n"
          ],
          "name": "stdout"
        }
      ]
    },
    {
      "cell_type": "code",
      "metadata": {
        "id": "4AiC4ju7YfEs",
        "colab_type": "code",
        "colab": {
          "base_uri": "https://localhost:8080/",
          "height": 53
        },
        "outputId": "b015bd49-daf3-4596-bf61-7a8c5e648dde"
      },
      "source": [
        "data['name'] = name       \n",
        "data['age'] = age       \n",
        "data['weight'] = weight       \n",
        "print(data)"
      ],
      "execution_count": 47,
      "outputs": [
        {
          "output_type": "stream",
          "text": [
            "[('Alice', 25, 55. ) ('Bob', 45, 85.5) ('Cathy', 37, 68. )\n",
            " ('Doug', 19, 61.5)]\n"
          ],
          "name": "stdout"
        }
      ]
    },
    {
      "cell_type": "code",
      "metadata": {
        "id": "Aa8ILGtPYY5C",
        "colab_type": "code",
        "colab": {
          "base_uri": "https://localhost:8080/",
          "height": 35
        },
        "outputId": "113f7e61-504a-40f5-a9fc-316e4c015f4d"
      },
      "source": [
        "data['name']"
      ],
      "execution_count": 48,
      "outputs": [
        {
          "output_type": "execute_result",
          "data": {
            "text/plain": [
              "array(['Alice', 'Bob', 'Cathy', 'Doug'], dtype='<U10')"
            ]
          },
          "metadata": {
            "tags": []
          },
          "execution_count": 48
        }
      ]
    },
    {
      "cell_type": "code",
      "metadata": {
        "id": "xFr334JJYY1_",
        "colab_type": "code",
        "colab": {
          "base_uri": "https://localhost:8080/",
          "height": 35
        },
        "outputId": "7ce3b203-4db7-4723-a14b-789d33b686af"
      },
      "source": [
        "data[-1]['name']"
      ],
      "execution_count": 49,
      "outputs": [
        {
          "output_type": "execute_result",
          "data": {
            "text/plain": [
              "'Doug'"
            ]
          },
          "metadata": {
            "tags": []
          },
          "execution_count": 49
        }
      ]
    },
    {
      "cell_type": "code",
      "metadata": {
        "id": "Ntz3_SRqYYzA",
        "colab_type": "code",
        "colab": {
          "base_uri": "https://localhost:8080/",
          "height": 35
        },
        "outputId": "bd9108da-ff9d-4e4a-cc2b-e652e162945c"
      },
      "source": [
        "data[data['age'] < 30]['name']"
      ],
      "execution_count": 50,
      "outputs": [
        {
          "output_type": "execute_result",
          "data": {
            "text/plain": [
              "array(['Alice', 'Doug'], dtype='<U10')"
            ]
          },
          "metadata": {
            "tags": []
          },
          "execution_count": 50
        }
      ]
    },
    {
      "cell_type": "code",
      "metadata": {
        "id": "sArS5qn9YYvv",
        "colab_type": "code",
        "colab": {
          "base_uri": "https://localhost:8080/",
          "height": 35
        },
        "outputId": "6bb8a777-16b0-4bb8-9ffc-018756c89373"
      },
      "source": [
        " np.dtype({'names':('name', 'age', 'weight'),                  \n",
        "           'formats':((np.str_, 10), int, np.float32)})"
      ],
      "execution_count": 51,
      "outputs": [
        {
          "output_type": "execute_result",
          "data": {
            "text/plain": [
              "dtype([('name', '<U10'), ('age', '<i8'), ('weight', '<f4')])"
            ]
          },
          "metadata": {
            "tags": []
          },
          "execution_count": 51
        }
      ]
    },
    {
      "cell_type": "code",
      "metadata": {
        "id": "1a9U3Nn9YYqN",
        "colab_type": "code",
        "colab": {
          "base_uri": "https://localhost:8080/",
          "height": 107
        },
        "outputId": "8c923a97-066d-436b-e247-d2b2210f31fa"
      },
      "source": [
        "tp = np.dtype([('id', 'i8'), ('mat', 'f8', (3, 3))])        \n",
        "X = np.zeros(1, dtype=tp)   \n",
        "print(X)     \n",
        "print(X[0])        \n",
        "print(X['mat'][0])\n"
      ],
      "execution_count": 53,
      "outputs": [
        {
          "output_type": "stream",
          "text": [
            "[(0, [[0., 0., 0.], [0., 0., 0.], [0., 0., 0.]])]\n",
            "(0, [[0., 0., 0.], [0., 0., 0.], [0., 0., 0.]])\n",
            "[[0. 0. 0.]\n",
            " [0. 0. 0.]\n",
            " [0. 0. 0.]]\n"
          ],
          "name": "stdout"
        }
      ]
    },
    {
      "cell_type": "code",
      "metadata": {
        "id": "PmwClVfaYYmO",
        "colab_type": "code",
        "colab": {}
      },
      "source": [
        ""
      ],
      "execution_count": 0,
      "outputs": []
    },
    {
      "cell_type": "code",
      "metadata": {
        "id": "zhHjBRYRYYiT",
        "colab_type": "code",
        "colab": {}
      },
      "source": [
        ""
      ],
      "execution_count": 0,
      "outputs": []
    },
    {
      "cell_type": "code",
      "metadata": {
        "id": "rn_My5b_YYcb",
        "colab_type": "code",
        "colab": {}
      },
      "source": [
        ""
      ],
      "execution_count": 0,
      "outputs": []
    }
  ]
}